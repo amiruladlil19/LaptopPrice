{
 "cells": [
  {
   "cell_type": "markdown",
   "id": "0f6ea54f-4da7-403e-b52f-ff5b9114c40f",
   "metadata": {},
   "source": [
    "# Cleaning"
   ]
  },
  {
   "cell_type": "code",
   "execution_count": 1,
   "id": "52e70ea4-7773-4fd5-aa33-19b69748c147",
   "metadata": {},
   "outputs": [],
   "source": [
    "from sklearn.model_selection import train_test_split\n",
    "from sklearn.linear_model import LinearRegression\n",
    "from sklearn.svm import SVR\n",
    "from sklearn.tree import DecisionTreeRegressor\n",
    "from sklearn.model_selection import cross_val_score\n",
    "from sklearn.metrics import mean_squared_error, r2_score\n",
    "import pandas as pd\n",
    "import numpy as np\n",
    "import seaborn as sns\n",
    "import matplotlib.pyplot as plt\n",
    "from sklearn.preprocessing import LabelEncoder, OneHotEncoder, StandardScaler\n",
    "import warnings\n",
    "\n",
    "# Ignore all warnings\n",
    "warnings.filterwarnings(\"ignore\")"
   ]
  },
  {
   "cell_type": "code",
   "execution_count": 2,
   "id": "0a7b3dfe-c9ca-4ee0-a6fe-ff013e117b1b",
   "metadata": {},
   "outputs": [],
   "source": [
    "df = pd.read_csv('amazon_laptop_prices_v01.csv')\n"
   ]
  },
  {
   "cell_type": "code",
   "execution_count": 3,
   "id": "5c3e464d-2888-424b-bdf1-3674bb6d4cb4",
   "metadata": {},
   "outputs": [
    {
     "data": {
      "text/html": [
       "<div>\n",
       "<style scoped>\n",
       "    .dataframe tbody tr th:only-of-type {\n",
       "        vertical-align: middle;\n",
       "    }\n",
       "\n",
       "    .dataframe tbody tr th {\n",
       "        vertical-align: top;\n",
       "    }\n",
       "\n",
       "    .dataframe thead th {\n",
       "        text-align: right;\n",
       "    }\n",
       "</style>\n",
       "<table border=\"1\" class=\"dataframe\">\n",
       "  <thead>\n",
       "    <tr style=\"text-align: right;\">\n",
       "      <th></th>\n",
       "      <th>brand</th>\n",
       "      <th>model</th>\n",
       "      <th>screen_size</th>\n",
       "      <th>color</th>\n",
       "      <th>harddisk</th>\n",
       "      <th>cpu</th>\n",
       "      <th>ram</th>\n",
       "      <th>OS</th>\n",
       "      <th>special_features</th>\n",
       "      <th>graphics</th>\n",
       "      <th>graphics_coprocessor</th>\n",
       "      <th>cpu_speed</th>\n",
       "      <th>rating</th>\n",
       "      <th>price</th>\n",
       "      <th>Unnamed: 14</th>\n",
       "    </tr>\n",
       "  </thead>\n",
       "  <tbody>\n",
       "    <tr>\n",
       "      <th>0</th>\n",
       "      <td>ROKC</td>\n",
       "      <td>NaN</td>\n",
       "      <td>14 Inches</td>\n",
       "      <td>Blue</td>\n",
       "      <td>1000 GB</td>\n",
       "      <td>Intel Core i7</td>\n",
       "      <td>8 GB</td>\n",
       "      <td>Windows 11</td>\n",
       "      <td>NaN</td>\n",
       "      <td>Integrated</td>\n",
       "      <td>Intel</td>\n",
       "      <td>1.2 GHz</td>\n",
       "      <td>NaN</td>\n",
       "      <td>$589.99</td>\n",
       "      <td>NaN</td>\n",
       "    </tr>\n",
       "    <tr>\n",
       "      <th>1</th>\n",
       "      <td>HP</td>\n",
       "      <td>NaN</td>\n",
       "      <td>15.6 Inches</td>\n",
       "      <td>Silver</td>\n",
       "      <td>1000 GB</td>\n",
       "      <td>Intel Core i5</td>\n",
       "      <td>64 GB</td>\n",
       "      <td>Windows 11 Pro</td>\n",
       "      <td>Backlit Keyboard</td>\n",
       "      <td>Integrated</td>\n",
       "      <td>Intel</td>\n",
       "      <td>NaN</td>\n",
       "      <td>4.5</td>\n",
       "      <td>$999.99</td>\n",
       "      <td>NaN</td>\n",
       "    </tr>\n",
       "    <tr>\n",
       "      <th>2</th>\n",
       "      <td>MSI</td>\n",
       "      <td>Vector GP66 12UGS-267</td>\n",
       "      <td>15.66 Inches</td>\n",
       "      <td>Core Black</td>\n",
       "      <td>NaN</td>\n",
       "      <td>Intel Core i9</td>\n",
       "      <td>32 GB</td>\n",
       "      <td>Windows 11 Home</td>\n",
       "      <td>NaN</td>\n",
       "      <td>Dedicated</td>\n",
       "      <td>NaN</td>\n",
       "      <td>1.8 GHz</td>\n",
       "      <td>5</td>\n",
       "      <td>$1,599.00</td>\n",
       "      <td>NaN</td>\n",
       "    </tr>\n",
       "    <tr>\n",
       "      <th>3</th>\n",
       "      <td>Apple</td>\n",
       "      <td>MacBook Air</td>\n",
       "      <td>13.3 Inches</td>\n",
       "      <td>Silver</td>\n",
       "      <td>256 GB</td>\n",
       "      <td>Unknown</td>\n",
       "      <td>8 GB</td>\n",
       "      <td>Mac OS</td>\n",
       "      <td>Backlit Keyboard</td>\n",
       "      <td>Integrated</td>\n",
       "      <td>NaN</td>\n",
       "      <td>NaN</td>\n",
       "      <td>4.8</td>\n",
       "      <td>$689.99</td>\n",
       "      <td>NaN</td>\n",
       "    </tr>\n",
       "    <tr>\n",
       "      <th>4</th>\n",
       "      <td>Apple</td>\n",
       "      <td>MacBook Air</td>\n",
       "      <td>15.3 Inches</td>\n",
       "      <td>Midnight</td>\n",
       "      <td>256 GB</td>\n",
       "      <td>Unknown</td>\n",
       "      <td>8 GB</td>\n",
       "      <td>Mac OS</td>\n",
       "      <td>NaN</td>\n",
       "      <td>Integrated</td>\n",
       "      <td>NaN</td>\n",
       "      <td>NaN</td>\n",
       "      <td>4.8</td>\n",
       "      <td>$1,144.48</td>\n",
       "      <td>NaN</td>\n",
       "    </tr>\n",
       "    <tr>\n",
       "      <th>...</th>\n",
       "      <td>...</td>\n",
       "      <td>...</td>\n",
       "      <td>...</td>\n",
       "      <td>...</td>\n",
       "      <td>...</td>\n",
       "      <td>...</td>\n",
       "      <td>...</td>\n",
       "      <td>...</td>\n",
       "      <td>...</td>\n",
       "      <td>...</td>\n",
       "      <td>...</td>\n",
       "      <td>...</td>\n",
       "      <td>...</td>\n",
       "      <td>...</td>\n",
       "      <td>...</td>\n",
       "    </tr>\n",
       "    <tr>\n",
       "      <th>4441</th>\n",
       "      <td>MSI</td>\n",
       "      <td>Stealth GS66 12UGS-025</td>\n",
       "      <td>15.6 Inches</td>\n",
       "      <td>Core Black</td>\n",
       "      <td>NaN</td>\n",
       "      <td>Intel Core i9</td>\n",
       "      <td>32 GB</td>\n",
       "      <td>Windows 11 Home</td>\n",
       "      <td>NaN</td>\n",
       "      <td>Dedicated</td>\n",
       "      <td>NVIDIA GeForce RTX 3070</td>\n",
       "      <td>1.8 GHz</td>\n",
       "      <td>1</td>\n",
       "      <td>$1,699.00</td>\n",
       "      <td>NaN</td>\n",
       "    </tr>\n",
       "    <tr>\n",
       "      <th>4442</th>\n",
       "      <td>ROKC</td>\n",
       "      <td>NaN</td>\n",
       "      <td>14 Inches</td>\n",
       "      <td>Blue</td>\n",
       "      <td>1000 GB</td>\n",
       "      <td>Intel Core i7</td>\n",
       "      <td>8 GB</td>\n",
       "      <td>Windows 11</td>\n",
       "      <td>NaN</td>\n",
       "      <td>Integrated</td>\n",
       "      <td>Intel</td>\n",
       "      <td>1.2 GHz</td>\n",
       "      <td>NaN</td>\n",
       "      <td>$589.99</td>\n",
       "      <td>NaN</td>\n",
       "    </tr>\n",
       "    <tr>\n",
       "      <th>4443</th>\n",
       "      <td>Dell</td>\n",
       "      <td>Inspiron 3511 Laptop</td>\n",
       "      <td>15.6 Inches</td>\n",
       "      <td>Black</td>\n",
       "      <td>512 GB</td>\n",
       "      <td>Core i3</td>\n",
       "      <td>8 GB</td>\n",
       "      <td>Windows 10 Home</td>\n",
       "      <td>Wifi &amp; Bluetooth</td>\n",
       "      <td>Integrated</td>\n",
       "      <td>NaN</td>\n",
       "      <td>NaN</td>\n",
       "      <td>NaN</td>\n",
       "      <td>$591.99</td>\n",
       "      <td>NaN</td>\n",
       "    </tr>\n",
       "    <tr>\n",
       "      <th>4444</th>\n",
       "      <td>Dell</td>\n",
       "      <td>Latitude 3420 Laptop</td>\n",
       "      <td>14 Inches</td>\n",
       "      <td>NaN</td>\n",
       "      <td>512 GB</td>\n",
       "      <td>Core i5</td>\n",
       "      <td>8 GB</td>\n",
       "      <td>Windows 10 Pro</td>\n",
       "      <td>NaN</td>\n",
       "      <td>Integrated</td>\n",
       "      <td>Intel Integrated Graphics</td>\n",
       "      <td>0.9 GHz</td>\n",
       "      <td>NaN</td>\n",
       "      <td>$1,771.99</td>\n",
       "      <td>NaN</td>\n",
       "    </tr>\n",
       "    <tr>\n",
       "      <th>4445</th>\n",
       "      <td>Dell</td>\n",
       "      <td>Latitude 5430 Laptop</td>\n",
       "      <td>14 Inches</td>\n",
       "      <td>Black</td>\n",
       "      <td>256 GB</td>\n",
       "      <td>Core i5</td>\n",
       "      <td>NaN</td>\n",
       "      <td>Windows 11 Pro</td>\n",
       "      <td>NaN</td>\n",
       "      <td>Integrated</td>\n",
       "      <td>Intel Integrated Graphics</td>\n",
       "      <td>3.3 GHz</td>\n",
       "      <td>NaN</td>\n",
       "      <td>$938.99</td>\n",
       "      <td>NaN</td>\n",
       "    </tr>\n",
       "  </tbody>\n",
       "</table>\n",
       "<p>4446 rows × 15 columns</p>\n",
       "</div>"
      ],
      "text/plain": [
       "      brand                   model   screen_size       color harddisk  \\\n",
       "0      ROKC                     NaN     14 Inches        Blue  1000 GB   \n",
       "1        HP                     NaN   15.6 Inches      Silver  1000 GB   \n",
       "2       MSI   Vector GP66 12UGS-267  15.66 Inches  Core Black      NaN   \n",
       "3     Apple             MacBook Air   13.3 Inches      Silver   256 GB   \n",
       "4     Apple             MacBook Air   15.3 Inches    Midnight   256 GB   \n",
       "...     ...                     ...           ...         ...      ...   \n",
       "4441    MSI  Stealth GS66 12UGS-025   15.6 Inches  Core Black      NaN   \n",
       "4442   ROKC                     NaN     14 Inches        Blue  1000 GB   \n",
       "4443   Dell    Inspiron 3511 Laptop   15.6 Inches       Black   512 GB   \n",
       "4444   Dell    Latitude 3420 Laptop     14 Inches         NaN   512 GB   \n",
       "4445   Dell    Latitude 5430 Laptop     14 Inches       Black   256 GB   \n",
       "\n",
       "                cpu    ram               OS  special_features    graphics  \\\n",
       "0     Intel Core i7   8 GB       Windows 11               NaN  Integrated   \n",
       "1     Intel Core i5  64 GB   Windows 11 Pro  Backlit Keyboard  Integrated   \n",
       "2     Intel Core i9  32 GB  Windows 11 Home               NaN   Dedicated   \n",
       "3           Unknown   8 GB           Mac OS  Backlit Keyboard  Integrated   \n",
       "4           Unknown   8 GB           Mac OS               NaN  Integrated   \n",
       "...             ...    ...              ...               ...         ...   \n",
       "4441  Intel Core i9  32 GB  Windows 11 Home               NaN   Dedicated   \n",
       "4442  Intel Core i7   8 GB       Windows 11               NaN  Integrated   \n",
       "4443        Core i3   8 GB  Windows 10 Home  Wifi & Bluetooth  Integrated   \n",
       "4444        Core i5   8 GB   Windows 10 Pro               NaN  Integrated   \n",
       "4445        Core i5    NaN   Windows 11 Pro               NaN  Integrated   \n",
       "\n",
       "           graphics_coprocessor cpu_speed rating       price Unnamed: 14  \n",
       "0                         Intel   1.2 GHz    NaN    $589.99          NaN  \n",
       "1                         Intel       NaN    4.5    $999.99          NaN  \n",
       "2                           NaN   1.8 GHz      5  $1,599.00          NaN  \n",
       "3                           NaN       NaN    4.8    $689.99          NaN  \n",
       "4                           NaN       NaN    4.8  $1,144.48          NaN  \n",
       "...                         ...       ...    ...         ...         ...  \n",
       "4441    NVIDIA GeForce RTX 3070   1.8 GHz      1  $1,699.00          NaN  \n",
       "4442                      Intel   1.2 GHz    NaN    $589.99          NaN  \n",
       "4443                        NaN       NaN    NaN    $591.99          NaN  \n",
       "4444  Intel Integrated Graphics   0.9 GHz    NaN  $1,771.99          NaN  \n",
       "4445  Intel Integrated Graphics   3.3 GHz    NaN    $938.99          NaN  \n",
       "\n",
       "[4446 rows x 15 columns]"
      ]
     },
     "execution_count": 3,
     "metadata": {},
     "output_type": "execute_result"
    }
   ],
   "source": [
    "df"
   ]
  },
  {
   "cell_type": "code",
   "execution_count": 4,
   "id": "0667e7bf-470f-42bb-ba7e-9e1c1463c85e",
   "metadata": {},
   "outputs": [
    {
     "data": {
      "text/plain": [
       "919"
      ]
     },
     "execution_count": 4,
     "metadata": {},
     "output_type": "execute_result"
    }
   ],
   "source": [
    "df_cleaned = df.dropna(subset=['cpu', 'brand', 'screen_size', 'harddisk',  'ram', 'OS', 'graphics', 'graphics_coprocessor', 'cpu_speed', 'price'])\n",
    "len(df_cleaned)"
   ]
  },
  {
   "cell_type": "code",
   "execution_count": 5,
   "id": "a6dd7932-37d0-4d0e-83cc-97500a7f45cd",
   "metadata": {},
   "outputs": [
    {
     "data": {
      "text/html": [
       "<div>\n",
       "<style scoped>\n",
       "    .dataframe tbody tr th:only-of-type {\n",
       "        vertical-align: middle;\n",
       "    }\n",
       "\n",
       "    .dataframe tbody tr th {\n",
       "        vertical-align: top;\n",
       "    }\n",
       "\n",
       "    .dataframe thead th {\n",
       "        text-align: right;\n",
       "    }\n",
       "</style>\n",
       "<table border=\"1\" class=\"dataframe\">\n",
       "  <thead>\n",
       "    <tr style=\"text-align: right;\">\n",
       "      <th></th>\n",
       "      <th>brand</th>\n",
       "      <th>screen_size</th>\n",
       "      <th>harddisk</th>\n",
       "      <th>cpu</th>\n",
       "      <th>ram</th>\n",
       "      <th>OS</th>\n",
       "      <th>graphics</th>\n",
       "      <th>graphics_coprocessor</th>\n",
       "      <th>cpu_speed</th>\n",
       "      <th>price</th>\n",
       "    </tr>\n",
       "  </thead>\n",
       "  <tbody>\n",
       "    <tr>\n",
       "      <th>0</th>\n",
       "      <td>ROKC</td>\n",
       "      <td>14 Inches</td>\n",
       "      <td>1000 GB</td>\n",
       "      <td>Intel Core i7</td>\n",
       "      <td>8 GB</td>\n",
       "      <td>Windows 11</td>\n",
       "      <td>Integrated</td>\n",
       "      <td>Intel</td>\n",
       "      <td>1.2 GHz</td>\n",
       "      <td>$589.99</td>\n",
       "    </tr>\n",
       "    <tr>\n",
       "      <th>12</th>\n",
       "      <td>ROKC</td>\n",
       "      <td>15.6 Inches</td>\n",
       "      <td>1152 GB</td>\n",
       "      <td>Pentium</td>\n",
       "      <td>20 GB</td>\n",
       "      <td>Windows 11</td>\n",
       "      <td>Integrated</td>\n",
       "      <td>Intel</td>\n",
       "      <td>1.1 GHz</td>\n",
       "      <td>$389.99</td>\n",
       "    </tr>\n",
       "    <tr>\n",
       "      <th>13</th>\n",
       "      <td>HP</td>\n",
       "      <td>15.6 Inches</td>\n",
       "      <td>1000 GB</td>\n",
       "      <td>Pentium N5000</td>\n",
       "      <td>16 GB</td>\n",
       "      <td>Windows 11</td>\n",
       "      <td>Integrated</td>\n",
       "      <td>Intel</td>\n",
       "      <td>1.1 GHz</td>\n",
       "      <td>$459.99</td>\n",
       "    </tr>\n",
       "    <tr>\n",
       "      <th>17</th>\n",
       "      <td>Gateway</td>\n",
       "      <td>11.6 Inches</td>\n",
       "      <td>64 GB</td>\n",
       "      <td>Celeron N4020</td>\n",
       "      <td>4 GB</td>\n",
       "      <td>Windows 10 S</td>\n",
       "      <td>Integrated</td>\n",
       "      <td>Intel</td>\n",
       "      <td>1.1 GHz</td>\n",
       "      <td>$155.00</td>\n",
       "    </tr>\n",
       "    <tr>\n",
       "      <th>29</th>\n",
       "      <td>ROKC</td>\n",
       "      <td>14 Inches</td>\n",
       "      <td>1000 GB</td>\n",
       "      <td>Intel Core i7</td>\n",
       "      <td>8 GB</td>\n",
       "      <td>Windows 11</td>\n",
       "      <td>Integrated</td>\n",
       "      <td>Intel</td>\n",
       "      <td>1.2 GHz</td>\n",
       "      <td>$589.99</td>\n",
       "    </tr>\n",
       "    <tr>\n",
       "      <th>...</th>\n",
       "      <td>...</td>\n",
       "      <td>...</td>\n",
       "      <td>...</td>\n",
       "      <td>...</td>\n",
       "      <td>...</td>\n",
       "      <td>...</td>\n",
       "      <td>...</td>\n",
       "      <td>...</td>\n",
       "      <td>...</td>\n",
       "      <td>...</td>\n",
       "    </tr>\n",
       "    <tr>\n",
       "      <th>4434</th>\n",
       "      <td>ROKC</td>\n",
       "      <td>15.6 Inches</td>\n",
       "      <td>1152 GB</td>\n",
       "      <td>Pentium</td>\n",
       "      <td>20 GB</td>\n",
       "      <td>Windows 11</td>\n",
       "      <td>Integrated</td>\n",
       "      <td>Intel</td>\n",
       "      <td>1.1 GHz</td>\n",
       "      <td>$389.99</td>\n",
       "    </tr>\n",
       "    <tr>\n",
       "      <th>4435</th>\n",
       "      <td>HP</td>\n",
       "      <td>14 Inches</td>\n",
       "      <td>64 GB</td>\n",
       "      <td>Celeron N4000</td>\n",
       "      <td>16 GB</td>\n",
       "      <td>Windows 11</td>\n",
       "      <td>Integrated</td>\n",
       "      <td>Intel</td>\n",
       "      <td>1.1 GHz</td>\n",
       "      <td>$389.99</td>\n",
       "    </tr>\n",
       "    <tr>\n",
       "      <th>4436</th>\n",
       "      <td>HP</td>\n",
       "      <td>15.6 Inches</td>\n",
       "      <td>1000 GB</td>\n",
       "      <td>Pentium N5000</td>\n",
       "      <td>16 GB</td>\n",
       "      <td>Windows 11</td>\n",
       "      <td>Integrated</td>\n",
       "      <td>Intel</td>\n",
       "      <td>1.1 GHz</td>\n",
       "      <td>$459.99</td>\n",
       "    </tr>\n",
       "    <tr>\n",
       "      <th>4442</th>\n",
       "      <td>ROKC</td>\n",
       "      <td>14 Inches</td>\n",
       "      <td>1000 GB</td>\n",
       "      <td>Intel Core i7</td>\n",
       "      <td>8 GB</td>\n",
       "      <td>Windows 11</td>\n",
       "      <td>Integrated</td>\n",
       "      <td>Intel</td>\n",
       "      <td>1.2 GHz</td>\n",
       "      <td>$589.99</td>\n",
       "    </tr>\n",
       "    <tr>\n",
       "      <th>4444</th>\n",
       "      <td>Dell</td>\n",
       "      <td>14 Inches</td>\n",
       "      <td>512 GB</td>\n",
       "      <td>Core i5</td>\n",
       "      <td>8 GB</td>\n",
       "      <td>Windows 10 Pro</td>\n",
       "      <td>Integrated</td>\n",
       "      <td>Intel Integrated Graphics</td>\n",
       "      <td>0.9 GHz</td>\n",
       "      <td>$1,771.99</td>\n",
       "    </tr>\n",
       "  </tbody>\n",
       "</table>\n",
       "<p>919 rows × 10 columns</p>\n",
       "</div>"
      ],
      "text/plain": [
       "        brand  screen_size harddisk            cpu    ram              OS  \\\n",
       "0        ROKC    14 Inches  1000 GB  Intel Core i7   8 GB      Windows 11   \n",
       "12       ROKC  15.6 Inches  1152 GB        Pentium  20 GB      Windows 11   \n",
       "13         HP  15.6 Inches  1000 GB  Pentium N5000  16 GB      Windows 11   \n",
       "17    Gateway  11.6 Inches    64 GB  Celeron N4020   4 GB    Windows 10 S   \n",
       "29       ROKC    14 Inches  1000 GB  Intel Core i7   8 GB      Windows 11   \n",
       "...       ...          ...      ...            ...    ...             ...   \n",
       "4434     ROKC  15.6 Inches  1152 GB        Pentium  20 GB      Windows 11   \n",
       "4435       HP    14 Inches    64 GB  Celeron N4000  16 GB      Windows 11   \n",
       "4436       HP  15.6 Inches  1000 GB  Pentium N5000  16 GB      Windows 11   \n",
       "4442     ROKC    14 Inches  1000 GB  Intel Core i7   8 GB      Windows 11   \n",
       "4444     Dell    14 Inches   512 GB        Core i5   8 GB  Windows 10 Pro   \n",
       "\n",
       "        graphics       graphics_coprocessor cpu_speed       price  \n",
       "0     Integrated                      Intel   1.2 GHz    $589.99   \n",
       "12    Integrated                      Intel   1.1 GHz    $389.99   \n",
       "13    Integrated                      Intel   1.1 GHz    $459.99   \n",
       "17    Integrated                      Intel   1.1 GHz    $155.00   \n",
       "29    Integrated                      Intel   1.2 GHz    $589.99   \n",
       "...          ...                        ...       ...         ...  \n",
       "4434  Integrated                      Intel   1.1 GHz    $389.99   \n",
       "4435  Integrated                      Intel   1.1 GHz    $389.99   \n",
       "4436  Integrated                      Intel   1.1 GHz    $459.99   \n",
       "4442  Integrated                      Intel   1.2 GHz    $589.99   \n",
       "4444  Integrated  Intel Integrated Graphics   0.9 GHz  $1,771.99   \n",
       "\n",
       "[919 rows x 10 columns]"
      ]
     },
     "execution_count": 5,
     "metadata": {},
     "output_type": "execute_result"
    }
   ],
   "source": [
    "df_cleaned = df_cleaned.dropna(axis=1)\n",
    "df_cleaned"
   ]
  },
  {
   "cell_type": "code",
   "execution_count": 6,
   "id": "fd18d63d-6d5c-4ef7-a068-3ebbced4f30d",
   "metadata": {},
   "outputs": [],
   "source": [
    "df_cleaned['price'] = df_cleaned['price'].str.replace('$', '').str.replace(',', '').astype(float)"
   ]
  },
  {
   "cell_type": "code",
   "execution_count": 7,
   "id": "f72468e9-b36f-4c13-b8e7-c44f847dd9b7",
   "metadata": {},
   "outputs": [
    {
     "data": {
      "text/plain": [
       "0        589.99\n",
       "12       389.99\n",
       "13       459.99\n",
       "17       155.00\n",
       "29       589.99\n",
       "         ...   \n",
       "4434     389.99\n",
       "4435     389.99\n",
       "4436     459.99\n",
       "4442     589.99\n",
       "4444    1771.99\n",
       "Name: price, Length: 919, dtype: float64"
      ]
     },
     "execution_count": 7,
     "metadata": {},
     "output_type": "execute_result"
    }
   ],
   "source": [
    "df_cleaned['price']"
   ]
  },
  {
   "cell_type": "code",
   "execution_count": 8,
   "id": "609c0ffb-9f06-4e22-b3c0-f57919ea94f7",
   "metadata": {},
   "outputs": [
    {
     "data": {
      "text/html": [
       "<div>\n",
       "<style scoped>\n",
       "    .dataframe tbody tr th:only-of-type {\n",
       "        vertical-align: middle;\n",
       "    }\n",
       "\n",
       "    .dataframe tbody tr th {\n",
       "        vertical-align: top;\n",
       "    }\n",
       "\n",
       "    .dataframe thead th {\n",
       "        text-align: right;\n",
       "    }\n",
       "</style>\n",
       "<table border=\"1\" class=\"dataframe\">\n",
       "  <thead>\n",
       "    <tr style=\"text-align: right;\">\n",
       "      <th></th>\n",
       "      <th>index</th>\n",
       "      <th>brand</th>\n",
       "      <th>screen_size</th>\n",
       "      <th>harddisk</th>\n",
       "      <th>cpu</th>\n",
       "      <th>ram</th>\n",
       "      <th>OS</th>\n",
       "      <th>graphics</th>\n",
       "      <th>graphics_coprocessor</th>\n",
       "      <th>cpu_speed</th>\n",
       "      <th>price</th>\n",
       "    </tr>\n",
       "  </thead>\n",
       "  <tbody>\n",
       "    <tr>\n",
       "      <th>0</th>\n",
       "      <td>0</td>\n",
       "      <td>ROKC</td>\n",
       "      <td>14 Inches</td>\n",
       "      <td>1000 GB</td>\n",
       "      <td>Intel Core i7</td>\n",
       "      <td>8 GB</td>\n",
       "      <td>Windows 11</td>\n",
       "      <td>Integrated</td>\n",
       "      <td>Intel</td>\n",
       "      <td>1.2 GHz</td>\n",
       "      <td>589.99</td>\n",
       "    </tr>\n",
       "    <tr>\n",
       "      <th>1</th>\n",
       "      <td>12</td>\n",
       "      <td>ROKC</td>\n",
       "      <td>15.6 Inches</td>\n",
       "      <td>1152 GB</td>\n",
       "      <td>Pentium</td>\n",
       "      <td>20 GB</td>\n",
       "      <td>Windows 11</td>\n",
       "      <td>Integrated</td>\n",
       "      <td>Intel</td>\n",
       "      <td>1.1 GHz</td>\n",
       "      <td>389.99</td>\n",
       "    </tr>\n",
       "    <tr>\n",
       "      <th>2</th>\n",
       "      <td>13</td>\n",
       "      <td>HP</td>\n",
       "      <td>15.6 Inches</td>\n",
       "      <td>1000 GB</td>\n",
       "      <td>Pentium N5000</td>\n",
       "      <td>16 GB</td>\n",
       "      <td>Windows 11</td>\n",
       "      <td>Integrated</td>\n",
       "      <td>Intel</td>\n",
       "      <td>1.1 GHz</td>\n",
       "      <td>459.99</td>\n",
       "    </tr>\n",
       "    <tr>\n",
       "      <th>3</th>\n",
       "      <td>17</td>\n",
       "      <td>Gateway</td>\n",
       "      <td>11.6 Inches</td>\n",
       "      <td>64 GB</td>\n",
       "      <td>Celeron N4020</td>\n",
       "      <td>4 GB</td>\n",
       "      <td>Windows 10 S</td>\n",
       "      <td>Integrated</td>\n",
       "      <td>Intel</td>\n",
       "      <td>1.1 GHz</td>\n",
       "      <td>155.00</td>\n",
       "    </tr>\n",
       "    <tr>\n",
       "      <th>4</th>\n",
       "      <td>29</td>\n",
       "      <td>ROKC</td>\n",
       "      <td>14 Inches</td>\n",
       "      <td>1000 GB</td>\n",
       "      <td>Intel Core i7</td>\n",
       "      <td>8 GB</td>\n",
       "      <td>Windows 11</td>\n",
       "      <td>Integrated</td>\n",
       "      <td>Intel</td>\n",
       "      <td>1.2 GHz</td>\n",
       "      <td>589.99</td>\n",
       "    </tr>\n",
       "    <tr>\n",
       "      <th>...</th>\n",
       "      <td>...</td>\n",
       "      <td>...</td>\n",
       "      <td>...</td>\n",
       "      <td>...</td>\n",
       "      <td>...</td>\n",
       "      <td>...</td>\n",
       "      <td>...</td>\n",
       "      <td>...</td>\n",
       "      <td>...</td>\n",
       "      <td>...</td>\n",
       "      <td>...</td>\n",
       "    </tr>\n",
       "    <tr>\n",
       "      <th>914</th>\n",
       "      <td>4434</td>\n",
       "      <td>ROKC</td>\n",
       "      <td>15.6 Inches</td>\n",
       "      <td>1152 GB</td>\n",
       "      <td>Pentium</td>\n",
       "      <td>20 GB</td>\n",
       "      <td>Windows 11</td>\n",
       "      <td>Integrated</td>\n",
       "      <td>Intel</td>\n",
       "      <td>1.1 GHz</td>\n",
       "      <td>389.99</td>\n",
       "    </tr>\n",
       "    <tr>\n",
       "      <th>915</th>\n",
       "      <td>4435</td>\n",
       "      <td>HP</td>\n",
       "      <td>14 Inches</td>\n",
       "      <td>64 GB</td>\n",
       "      <td>Celeron N4000</td>\n",
       "      <td>16 GB</td>\n",
       "      <td>Windows 11</td>\n",
       "      <td>Integrated</td>\n",
       "      <td>Intel</td>\n",
       "      <td>1.1 GHz</td>\n",
       "      <td>389.99</td>\n",
       "    </tr>\n",
       "    <tr>\n",
       "      <th>916</th>\n",
       "      <td>4436</td>\n",
       "      <td>HP</td>\n",
       "      <td>15.6 Inches</td>\n",
       "      <td>1000 GB</td>\n",
       "      <td>Pentium N5000</td>\n",
       "      <td>16 GB</td>\n",
       "      <td>Windows 11</td>\n",
       "      <td>Integrated</td>\n",
       "      <td>Intel</td>\n",
       "      <td>1.1 GHz</td>\n",
       "      <td>459.99</td>\n",
       "    </tr>\n",
       "    <tr>\n",
       "      <th>917</th>\n",
       "      <td>4442</td>\n",
       "      <td>ROKC</td>\n",
       "      <td>14 Inches</td>\n",
       "      <td>1000 GB</td>\n",
       "      <td>Intel Core i7</td>\n",
       "      <td>8 GB</td>\n",
       "      <td>Windows 11</td>\n",
       "      <td>Integrated</td>\n",
       "      <td>Intel</td>\n",
       "      <td>1.2 GHz</td>\n",
       "      <td>589.99</td>\n",
       "    </tr>\n",
       "    <tr>\n",
       "      <th>918</th>\n",
       "      <td>4444</td>\n",
       "      <td>Dell</td>\n",
       "      <td>14 Inches</td>\n",
       "      <td>512 GB</td>\n",
       "      <td>Core i5</td>\n",
       "      <td>8 GB</td>\n",
       "      <td>Windows 10 Pro</td>\n",
       "      <td>Integrated</td>\n",
       "      <td>Intel Integrated Graphics</td>\n",
       "      <td>0.9 GHz</td>\n",
       "      <td>1771.99</td>\n",
       "    </tr>\n",
       "  </tbody>\n",
       "</table>\n",
       "<p>919 rows × 11 columns</p>\n",
       "</div>"
      ],
      "text/plain": [
       "     index    brand  screen_size harddisk            cpu    ram  \\\n",
       "0        0     ROKC    14 Inches  1000 GB  Intel Core i7   8 GB   \n",
       "1       12     ROKC  15.6 Inches  1152 GB        Pentium  20 GB   \n",
       "2       13       HP  15.6 Inches  1000 GB  Pentium N5000  16 GB   \n",
       "3       17  Gateway  11.6 Inches    64 GB  Celeron N4020   4 GB   \n",
       "4       29     ROKC    14 Inches  1000 GB  Intel Core i7   8 GB   \n",
       "..     ...      ...          ...      ...            ...    ...   \n",
       "914   4434     ROKC  15.6 Inches  1152 GB        Pentium  20 GB   \n",
       "915   4435       HP    14 Inches    64 GB  Celeron N4000  16 GB   \n",
       "916   4436       HP  15.6 Inches  1000 GB  Pentium N5000  16 GB   \n",
       "917   4442     ROKC    14 Inches  1000 GB  Intel Core i7   8 GB   \n",
       "918   4444     Dell    14 Inches   512 GB        Core i5   8 GB   \n",
       "\n",
       "                 OS    graphics       graphics_coprocessor cpu_speed    price  \n",
       "0        Windows 11  Integrated                      Intel   1.2 GHz   589.99  \n",
       "1        Windows 11  Integrated                      Intel   1.1 GHz   389.99  \n",
       "2        Windows 11  Integrated                      Intel   1.1 GHz   459.99  \n",
       "3      Windows 10 S  Integrated                      Intel   1.1 GHz   155.00  \n",
       "4        Windows 11  Integrated                      Intel   1.2 GHz   589.99  \n",
       "..              ...         ...                        ...       ...      ...  \n",
       "914      Windows 11  Integrated                      Intel   1.1 GHz   389.99  \n",
       "915      Windows 11  Integrated                      Intel   1.1 GHz   389.99  \n",
       "916      Windows 11  Integrated                      Intel   1.1 GHz   459.99  \n",
       "917      Windows 11  Integrated                      Intel   1.2 GHz   589.99  \n",
       "918  Windows 10 Pro  Integrated  Intel Integrated Graphics   0.9 GHz  1771.99  \n",
       "\n",
       "[919 rows x 11 columns]"
      ]
     },
     "execution_count": 8,
     "metadata": {},
     "output_type": "execute_result"
    }
   ],
   "source": [
    "df_cleaned = df_cleaned.reset_index()\n",
    "df_cleaned"
   ]
  },
  {
   "cell_type": "code",
   "execution_count": 9,
   "id": "a56bf475-f6f1-4b41-a416-5fa659b94b70",
   "metadata": {},
   "outputs": [],
   "source": [
    "df_cleaned['cpu_speed'] = df_cleaned['cpu_speed'].str.replace(' GHz', '').str.replace(' Hz', '').astype(float)"
   ]
  },
  {
   "cell_type": "code",
   "execution_count": 10,
   "id": "8d25adf1-b6e5-4218-9134-0f300f6b7443",
   "metadata": {},
   "outputs": [
    {
     "data": {
      "text/plain": [
       "0      1.2\n",
       "1      1.1\n",
       "2      1.1\n",
       "3      1.1\n",
       "4      1.2\n",
       "      ... \n",
       "914    1.1\n",
       "915    1.1\n",
       "916    1.1\n",
       "917    1.2\n",
       "918    0.9\n",
       "Name: cpu_speed, Length: 919, dtype: float64"
      ]
     },
     "execution_count": 10,
     "metadata": {},
     "output_type": "execute_result"
    }
   ],
   "source": [
    "df_cleaned['cpu_speed']"
   ]
  },
  {
   "cell_type": "code",
   "execution_count": 11,
   "id": "d792d905-a4bc-4897-bd3e-0e035172787a",
   "metadata": {},
   "outputs": [
    {
     "data": {
      "text/html": [
       "<div>\n",
       "<style scoped>\n",
       "    .dataframe tbody tr th:only-of-type {\n",
       "        vertical-align: middle;\n",
       "    }\n",
       "\n",
       "    .dataframe tbody tr th {\n",
       "        vertical-align: top;\n",
       "    }\n",
       "\n",
       "    .dataframe thead th {\n",
       "        text-align: right;\n",
       "    }\n",
       "</style>\n",
       "<table border=\"1\" class=\"dataframe\">\n",
       "  <thead>\n",
       "    <tr style=\"text-align: right;\">\n",
       "      <th></th>\n",
       "      <th>index</th>\n",
       "      <th>brand</th>\n",
       "      <th>screen_size</th>\n",
       "      <th>harddisk</th>\n",
       "      <th>cpu</th>\n",
       "      <th>ram</th>\n",
       "      <th>OS</th>\n",
       "      <th>graphics</th>\n",
       "      <th>graphics_coprocessor</th>\n",
       "      <th>cpu_speed</th>\n",
       "      <th>price</th>\n",
       "    </tr>\n",
       "  </thead>\n",
       "  <tbody>\n",
       "    <tr>\n",
       "      <th>0</th>\n",
       "      <td>0</td>\n",
       "      <td>ROKC</td>\n",
       "      <td>14 Inches</td>\n",
       "      <td>1000 GB</td>\n",
       "      <td>Intel Core i7</td>\n",
       "      <td>8 GB</td>\n",
       "      <td>Windows 11</td>\n",
       "      <td>Integrated</td>\n",
       "      <td>Intel</td>\n",
       "      <td>1.2</td>\n",
       "      <td>589.99</td>\n",
       "    </tr>\n",
       "    <tr>\n",
       "      <th>1</th>\n",
       "      <td>12</td>\n",
       "      <td>ROKC</td>\n",
       "      <td>15.6 Inches</td>\n",
       "      <td>1152 GB</td>\n",
       "      <td>Pentium</td>\n",
       "      <td>20 GB</td>\n",
       "      <td>Windows 11</td>\n",
       "      <td>Integrated</td>\n",
       "      <td>Intel</td>\n",
       "      <td>1.1</td>\n",
       "      <td>389.99</td>\n",
       "    </tr>\n",
       "    <tr>\n",
       "      <th>2</th>\n",
       "      <td>13</td>\n",
       "      <td>HP</td>\n",
       "      <td>15.6 Inches</td>\n",
       "      <td>1000 GB</td>\n",
       "      <td>Pentium N5000</td>\n",
       "      <td>16 GB</td>\n",
       "      <td>Windows 11</td>\n",
       "      <td>Integrated</td>\n",
       "      <td>Intel</td>\n",
       "      <td>1.1</td>\n",
       "      <td>459.99</td>\n",
       "    </tr>\n",
       "    <tr>\n",
       "      <th>3</th>\n",
       "      <td>17</td>\n",
       "      <td>Gateway</td>\n",
       "      <td>11.6 Inches</td>\n",
       "      <td>64 GB</td>\n",
       "      <td>Celeron N4020</td>\n",
       "      <td>4 GB</td>\n",
       "      <td>Windows 10 S</td>\n",
       "      <td>Integrated</td>\n",
       "      <td>Intel</td>\n",
       "      <td>1.1</td>\n",
       "      <td>155.00</td>\n",
       "    </tr>\n",
       "    <tr>\n",
       "      <th>4</th>\n",
       "      <td>29</td>\n",
       "      <td>ROKC</td>\n",
       "      <td>14 Inches</td>\n",
       "      <td>1000 GB</td>\n",
       "      <td>Intel Core i7</td>\n",
       "      <td>8 GB</td>\n",
       "      <td>Windows 11</td>\n",
       "      <td>Integrated</td>\n",
       "      <td>Intel</td>\n",
       "      <td>1.2</td>\n",
       "      <td>589.99</td>\n",
       "    </tr>\n",
       "  </tbody>\n",
       "</table>\n",
       "</div>"
      ],
      "text/plain": [
       "   index    brand  screen_size harddisk            cpu    ram            OS  \\\n",
       "0      0     ROKC    14 Inches  1000 GB  Intel Core i7   8 GB    Windows 11   \n",
       "1     12     ROKC  15.6 Inches  1152 GB        Pentium  20 GB    Windows 11   \n",
       "2     13       HP  15.6 Inches  1000 GB  Pentium N5000  16 GB    Windows 11   \n",
       "3     17  Gateway  11.6 Inches    64 GB  Celeron N4020   4 GB  Windows 10 S   \n",
       "4     29     ROKC    14 Inches  1000 GB  Intel Core i7   8 GB    Windows 11   \n",
       "\n",
       "     graphics graphics_coprocessor  cpu_speed   price  \n",
       "0  Integrated                Intel        1.2  589.99  \n",
       "1  Integrated                Intel        1.1  389.99  \n",
       "2  Integrated                Intel        1.1  459.99  \n",
       "3  Integrated                Intel        1.1  155.00  \n",
       "4  Integrated                Intel        1.2  589.99  "
      ]
     },
     "execution_count": 11,
     "metadata": {},
     "output_type": "execute_result"
    }
   ],
   "source": [
    "df_cleaned.head()"
   ]
  },
  {
   "cell_type": "code",
   "execution_count": 12,
   "id": "4627e68e-d014-41bc-b219-d3f556a14d77",
   "metadata": {},
   "outputs": [],
   "source": [
    "df_cleaned['screen_size'] = df_cleaned['screen_size'].str.replace(' Inches', '').astype(float)\n",
    "df_cleaned['harddisk'] = df_cleaned['harddisk'].str.replace(' GB', '').str.replace(' TB', '000').astype(float)\n",
    "df_cleaned['ram'] = df_cleaned['ram'].str.replace(' GB', '').astype(float)"
   ]
  },
  {
   "cell_type": "code",
   "execution_count": 13,
   "id": "abf5fc53-39a2-4ecf-b3df-2faaa0ce41df",
   "metadata": {},
   "outputs": [
    {
     "data": {
      "text/plain": [
       "0      14.0\n",
       "1      15.6\n",
       "2      15.6\n",
       "3      11.6\n",
       "4      14.0\n",
       "       ... \n",
       "914    15.6\n",
       "915    14.0\n",
       "916    15.6\n",
       "917    14.0\n",
       "918    14.0\n",
       "Name: screen_size, Length: 919, dtype: float64"
      ]
     },
     "execution_count": 13,
     "metadata": {},
     "output_type": "execute_result"
    }
   ],
   "source": [
    "df_cleaned['screen_size']"
   ]
  },
  {
   "cell_type": "code",
   "execution_count": 14,
   "id": "86eadc20-9bee-4327-b8e9-b9cbd7eac2e7",
   "metadata": {},
   "outputs": [
    {
     "data": {
      "text/plain": [
       "0      1000.0\n",
       "1      1152.0\n",
       "2      1000.0\n",
       "3        64.0\n",
       "4      1000.0\n",
       "        ...  \n",
       "914    1152.0\n",
       "915      64.0\n",
       "916    1000.0\n",
       "917    1000.0\n",
       "918     512.0\n",
       "Name: harddisk, Length: 919, dtype: float64"
      ]
     },
     "execution_count": 14,
     "metadata": {},
     "output_type": "execute_result"
    }
   ],
   "source": [
    "df_cleaned['harddisk']"
   ]
  },
  {
   "cell_type": "code",
   "execution_count": 15,
   "id": "202d9152-babb-4f38-b371-0fe5742d6716",
   "metadata": {},
   "outputs": [
    {
     "data": {
      "text/plain": [
       "0       8.0\n",
       "1      20.0\n",
       "2      16.0\n",
       "3       4.0\n",
       "4       8.0\n",
       "       ... \n",
       "914    20.0\n",
       "915    16.0\n",
       "916    16.0\n",
       "917     8.0\n",
       "918     8.0\n",
       "Name: ram, Length: 919, dtype: float64"
      ]
     },
     "execution_count": 15,
     "metadata": {},
     "output_type": "execute_result"
    }
   ],
   "source": [
    "df_cleaned['ram']"
   ]
  },
  {
   "cell_type": "code",
   "execution_count": 16,
   "id": "93b3c02d-acda-467a-a37a-35f3017e6ab3",
   "metadata": {},
   "outputs": [
    {
     "data": {
      "text/html": [
       "<div>\n",
       "<style scoped>\n",
       "    .dataframe tbody tr th:only-of-type {\n",
       "        vertical-align: middle;\n",
       "    }\n",
       "\n",
       "    .dataframe tbody tr th {\n",
       "        vertical-align: top;\n",
       "    }\n",
       "\n",
       "    .dataframe thead th {\n",
       "        text-align: right;\n",
       "    }\n",
       "</style>\n",
       "<table border=\"1\" class=\"dataframe\">\n",
       "  <thead>\n",
       "    <tr style=\"text-align: right;\">\n",
       "      <th></th>\n",
       "      <th>index</th>\n",
       "      <th>brand</th>\n",
       "      <th>screen_size</th>\n",
       "      <th>harddisk</th>\n",
       "      <th>cpu</th>\n",
       "      <th>ram</th>\n",
       "      <th>OS</th>\n",
       "      <th>graphics</th>\n",
       "      <th>graphics_coprocessor</th>\n",
       "      <th>cpu_speed</th>\n",
       "      <th>price</th>\n",
       "    </tr>\n",
       "  </thead>\n",
       "  <tbody>\n",
       "    <tr>\n",
       "      <th>0</th>\n",
       "      <td>0</td>\n",
       "      <td>ROKC</td>\n",
       "      <td>14.0</td>\n",
       "      <td>1000.0</td>\n",
       "      <td>Intel Core i7</td>\n",
       "      <td>8.0</td>\n",
       "      <td>Windows 11</td>\n",
       "      <td>Integrated</td>\n",
       "      <td>Intel</td>\n",
       "      <td>1.2</td>\n",
       "      <td>589.99</td>\n",
       "    </tr>\n",
       "    <tr>\n",
       "      <th>1</th>\n",
       "      <td>12</td>\n",
       "      <td>ROKC</td>\n",
       "      <td>15.6</td>\n",
       "      <td>1152.0</td>\n",
       "      <td>Pentium</td>\n",
       "      <td>20.0</td>\n",
       "      <td>Windows 11</td>\n",
       "      <td>Integrated</td>\n",
       "      <td>Intel</td>\n",
       "      <td>1.1</td>\n",
       "      <td>389.99</td>\n",
       "    </tr>\n",
       "    <tr>\n",
       "      <th>2</th>\n",
       "      <td>13</td>\n",
       "      <td>HP</td>\n",
       "      <td>15.6</td>\n",
       "      <td>1000.0</td>\n",
       "      <td>Pentium N5000</td>\n",
       "      <td>16.0</td>\n",
       "      <td>Windows 11</td>\n",
       "      <td>Integrated</td>\n",
       "      <td>Intel</td>\n",
       "      <td>1.1</td>\n",
       "      <td>459.99</td>\n",
       "    </tr>\n",
       "    <tr>\n",
       "      <th>3</th>\n",
       "      <td>17</td>\n",
       "      <td>Gateway</td>\n",
       "      <td>11.6</td>\n",
       "      <td>64.0</td>\n",
       "      <td>Celeron N4020</td>\n",
       "      <td>4.0</td>\n",
       "      <td>Windows 10 S</td>\n",
       "      <td>Integrated</td>\n",
       "      <td>Intel</td>\n",
       "      <td>1.1</td>\n",
       "      <td>155.00</td>\n",
       "    </tr>\n",
       "    <tr>\n",
       "      <th>4</th>\n",
       "      <td>29</td>\n",
       "      <td>ROKC</td>\n",
       "      <td>14.0</td>\n",
       "      <td>1000.0</td>\n",
       "      <td>Intel Core i7</td>\n",
       "      <td>8.0</td>\n",
       "      <td>Windows 11</td>\n",
       "      <td>Integrated</td>\n",
       "      <td>Intel</td>\n",
       "      <td>1.2</td>\n",
       "      <td>589.99</td>\n",
       "    </tr>\n",
       "  </tbody>\n",
       "</table>\n",
       "</div>"
      ],
      "text/plain": [
       "   index    brand  screen_size  harddisk            cpu   ram            OS  \\\n",
       "0      0     ROKC         14.0    1000.0  Intel Core i7   8.0    Windows 11   \n",
       "1     12     ROKC         15.6    1152.0        Pentium  20.0    Windows 11   \n",
       "2     13       HP         15.6    1000.0  Pentium N5000  16.0    Windows 11   \n",
       "3     17  Gateway         11.6      64.0  Celeron N4020   4.0  Windows 10 S   \n",
       "4     29     ROKC         14.0    1000.0  Intel Core i7   8.0    Windows 11   \n",
       "\n",
       "     graphics graphics_coprocessor  cpu_speed   price  \n",
       "0  Integrated                Intel        1.2  589.99  \n",
       "1  Integrated                Intel        1.1  389.99  \n",
       "2  Integrated                Intel        1.1  459.99  \n",
       "3  Integrated                Intel        1.1  155.00  \n",
       "4  Integrated                Intel        1.2  589.99  "
      ]
     },
     "execution_count": 16,
     "metadata": {},
     "output_type": "execute_result"
    }
   ],
   "source": [
    "df_cleaned.head()"
   ]
  },
  {
   "cell_type": "code",
   "execution_count": 17,
   "id": "8aa0b697-3453-4df0-bc16-91d790636b03",
   "metadata": {},
   "outputs": [
    {
     "data": {
      "text/plain": [
       "array(['ROKC', 'HP', 'Gateway', 'Lenovo', 'ASUS', 'LG', 'Dell',\n",
       "       'Quality Refurbished Computers', 'Computer Upgrade King', 'MSI',\n",
       "       'Alienware', 'acer', 'Toughbook'], dtype=object)"
      ]
     },
     "execution_count": 17,
     "metadata": {},
     "output_type": "execute_result"
    }
   ],
   "source": [
    "df_cleaned['brand'].unique()"
   ]
  },
  {
   "cell_type": "code",
   "execution_count": 18,
   "id": "907c1875-42a3-44db-9167-b8bc55b8083b",
   "metadata": {},
   "outputs": [
    {
     "data": {
      "text/plain": [
       "array(['Integrated', 'Dedicated', 'Integrated AMD Radeon™ Graphics',\n",
       "       'Intel UHD Graphics', 'Integrated, Dedicated'], dtype=object)"
      ]
     },
     "execution_count": 18,
     "metadata": {},
     "output_type": "execute_result"
    }
   ],
   "source": [
    "df_cleaned['graphics'].unique()"
   ]
  },
  {
   "cell_type": "code",
   "execution_count": 19,
   "id": "93c0e717-3625-4201-9226-9387850b6d48",
   "metadata": {},
   "outputs": [],
   "source": [
    "for i in range(len(df_cleaned)):\n",
    "    if 'Intel' in df_cleaned['graphics'][i]:\n",
    "        df_cleaned['graphics'][i] = 'Integrated'\n",
    "    if 'Integrated AMD' in df_cleaned['graphics'][i]:\n",
    "        df_cleaned['graphics'][i] = 'Integrated'"
   ]
  },
  {
   "cell_type": "code",
   "execution_count": 20,
   "id": "270730ed-905f-48e7-9274-839166cc0182",
   "metadata": {},
   "outputs": [
    {
     "data": {
      "text/plain": [
       "array(['Integrated', 'Dedicated', 'Integrated, Dedicated'], dtype=object)"
      ]
     },
     "execution_count": 20,
     "metadata": {},
     "output_type": "execute_result"
    }
   ],
   "source": [
    "df_cleaned['graphics'].unique()"
   ]
  },
  {
   "cell_type": "code",
   "execution_count": 21,
   "id": "07e2608c-b2d6-4a77-bd98-e0001bdfbfc2",
   "metadata": {},
   "outputs": [
    {
     "data": {
      "text/plain": [
       "(array([886.,   0.,   0.,   0.,   0.,  31.,   0.,   0.,   0.,   2.]),\n",
       " array([0. , 0.2, 0.4, 0.6, 0.8, 1. , 1.2, 1.4, 1.6, 1.8, 2. ]),\n",
       " <BarContainer object of 10 artists>)"
      ]
     },
     "execution_count": 21,
     "metadata": {},
     "output_type": "execute_result"
    },
    {
     "data": {
      "image/png": "[encoded data removed]",
      "text/plain": [
       "<Figure size 640x480 with 1 Axes>"
      ]
     },
     "metadata": {},
     "output_type": "display_data"
    }
   ],
   "source": [
    "plt.hist(df_cleaned['graphics'])"
   ]
  },
  {
   "cell_type": "code",
   "execution_count": 22,
   "id": "c2d363e4-7a71-4624-8565-d8bd0f74ffd4",
   "metadata": {},
   "outputs": [
    {
     "data": {
      "text/plain": [
       "array(['Intel', 'AMD Radeon R5', 'NVIDIA GeForce RTX 4070',\n",
       "       'AMD Radeon 610M', 'Intel Iris Xe Graphics',\n",
       "       'Intel Iris Xe Graphics eligible Integrated', 'Intel UHD Graphics',\n",
       "       'NVIDIA GeForce RTX 4000', 'Intel HD Graphics 5000',\n",
       "       'Intel Integrated Graphics', 'AMD Radeon Graphics',\n",
       "       'Integrated AMD Radeon™ Graphics', 'INTEL',\n",
       "       'Intel HD Graphics 620', 'NVIDIA RTX A2000 w/4GB', 'Intel HD 4000',\n",
       "       'Intel HD Graphics 3000', 'NVIDIA GeForce RTX A4500',\n",
       "       'NVIDIA GeForce RTX 3060', 'Intel UHD Graphics 600',\n",
       "       'AMD Radeon RTX 3070', 'Intel HD Graphics 520',\n",
       "       'Intel UHD Graphics 605', 'Integrated Graphics',\n",
       "       'Intel HD Integrated Graphics', 'NVIDIA GeForce RTX 3080 Ti',\n",
       "       'NVIDIA RTX A4500 16GB GDDR6 (4DP)', 'Intel UHD Graphics 620',\n",
       "       'AMD Radeon R7', 'Integrated Intel® UHD 600 Graphics',\n",
       "       'NVIDIA GeForce GTX 1070 OC with 8GB GDDR5',\n",
       "       'NVIDIA GeForce GT 720M', 'Intel HD Graphics 400',\n",
       "       'NVIDIA GeForce RTX 3080', 'AMD Athlon Silver', 'Quadro P1000',\n",
       "       'Intel HD Graphics 4400 Integrated', 'NVIDIA Quadro T1000',\n",
       "       'Intel HD Graphics 530', 'NVIDIA GeForce RTX 2070',\n",
       "       'Intel HD Graphics', 'NVIDIA GeForce RTX 2060',\n",
       "       'NVIDIA GeForce GTX 1060', 'Integrated Iris Xe Graphics',\n",
       "       'NVIDIA GeForce RTX 3070', 'NVIDIA GeForce RTX 2080', 'AMD',\n",
       "       'Integrated Intel HD Graphics', 'Intel Iris',\n",
       "       'NVIDIA GeForce RTX 2070 Max-Q', 'NVIDIA GeForce GTX 965M',\n",
       "       'NVIDIA Quadro P1000', 'NVIDIA GeForce GTX 1660Ti',\n",
       "       '2GB NVIDIA GeForce MX230 Graphics', 'NVIDIA GeForce RTX 3050'],\n",
       "      dtype=object)"
      ]
     },
     "execution_count": 22,
     "metadata": {},
     "output_type": "execute_result"
    }
   ],
   "source": [
    "df_cleaned['graphics_coprocessor'].unique()"
   ]
  },
  {
   "cell_type": "code",
   "execution_count": 23,
   "id": "d34b0ee4-6784-4eef-9631-f913e88eea2e",
   "metadata": {},
   "outputs": [],
   "source": [
    "for i in range(len(df_cleaned)):\n",
    "    if 'RTX 4' in df_cleaned['graphics_coprocessor'][i]:\n",
    "        df_cleaned['graphics_coprocessor'][i] = 'RTX 4000'\n",
    "    elif 'RTX 3' in df_cleaned['graphics_coprocessor'][i]:\n",
    "        df_cleaned['graphics_coprocessor'][i] = 'RTX 3000'\n",
    "    elif 'RTX 2' in df_cleaned['graphics_coprocessor'][i]:\n",
    "        df_cleaned['graphics_coprocessor'][i] = 'RTX 2000'\n",
    "    "
   ]
  },
  {
   "cell_type": "code",
   "execution_count": 24,
   "id": "3d7b97ec-84a2-42e0-b8ec-070380105b12",
   "metadata": {},
   "outputs": [
    {
     "data": {
      "text/plain": [
       "array(['Intel', 'AMD Radeon R5', 'RTX 4000', 'AMD Radeon 610M',\n",
       "       'Intel Iris Xe Graphics',\n",
       "       'Intel Iris Xe Graphics eligible Integrated', 'Intel UHD Graphics',\n",
       "       'Intel HD Graphics 5000', 'Intel Integrated Graphics',\n",
       "       'AMD Radeon Graphics', 'Integrated AMD Radeon™ Graphics', 'INTEL',\n",
       "       'Intel HD Graphics 620', 'NVIDIA RTX A2000 w/4GB', 'Intel HD 4000',\n",
       "       'Intel HD Graphics 3000', 'NVIDIA GeForce RTX A4500', 'RTX 3000',\n",
       "       'Intel UHD Graphics 600', 'Intel HD Graphics 520',\n",
       "       'Intel UHD Graphics 605', 'Integrated Graphics',\n",
       "       'Intel HD Integrated Graphics',\n",
       "       'NVIDIA RTX A4500 16GB GDDR6 (4DP)', 'Intel UHD Graphics 620',\n",
       "       'AMD Radeon R7', 'Integrated Intel® UHD 600 Graphics',\n",
       "       'NVIDIA GeForce GTX 1070 OC with 8GB GDDR5',\n",
       "       'NVIDIA GeForce GT 720M', 'Intel HD Graphics 400',\n",
       "       'AMD Athlon Silver', 'Quadro P1000',\n",
       "       'Intel HD Graphics 4400 Integrated', 'NVIDIA Quadro T1000',\n",
       "       'Intel HD Graphics 530', 'RTX 2000', 'Intel HD Graphics',\n",
       "       'NVIDIA GeForce GTX 1060', 'Integrated Iris Xe Graphics', 'AMD',\n",
       "       'Integrated Intel HD Graphics', 'Intel Iris',\n",
       "       'NVIDIA GeForce GTX 965M', 'NVIDIA Quadro P1000',\n",
       "       'NVIDIA GeForce GTX 1660Ti', '2GB NVIDIA GeForce MX230 Graphics'],\n",
       "      dtype=object)"
      ]
     },
     "execution_count": 24,
     "metadata": {},
     "output_type": "execute_result"
    }
   ],
   "source": [
    "df_cleaned['graphics_coprocessor'].unique()"
   ]
  },
  {
   "cell_type": "code",
   "execution_count": 25,
   "id": "deb1dc50-1c3f-4631-b5ad-53addf899d7e",
   "metadata": {},
   "outputs": [],
   "source": [
    "for i in range(len(df_cleaned)):\n",
    "    if 'Intel' in df_cleaned['graphics_coprocessor'][i]:\n",
    "        df_cleaned['graphics_coprocessor'][i] = 'Intel'"
   ]
  },
  {
   "cell_type": "code",
   "execution_count": 26,
   "id": "cef86671-9ebe-4a89-9c5a-2211308595fa",
   "metadata": {
    "scrolled": true
   },
   "outputs": [
    {
     "data": {
      "text/plain": [
       "array(['Intel', 'AMD Radeon R5', 'RTX 4000', 'AMD Radeon 610M',\n",
       "       'AMD Radeon Graphics', 'Integrated AMD Radeon™ Graphics', 'INTEL',\n",
       "       'NVIDIA RTX A2000 w/4GB', 'NVIDIA GeForce RTX A4500', 'RTX 3000',\n",
       "       'Integrated Graphics', 'NVIDIA RTX A4500 16GB GDDR6 (4DP)',\n",
       "       'AMD Radeon R7', 'NVIDIA GeForce GTX 1070 OC with 8GB GDDR5',\n",
       "       'NVIDIA GeForce GT 720M', 'AMD Athlon Silver', 'Quadro P1000',\n",
       "       'NVIDIA Quadro T1000', 'RTX 2000', 'NVIDIA GeForce GTX 1060',\n",
       "       'Integrated Iris Xe Graphics', 'AMD', 'NVIDIA GeForce GTX 965M',\n",
       "       'NVIDIA Quadro P1000', 'NVIDIA GeForce GTX 1660Ti',\n",
       "       '2GB NVIDIA GeForce MX230 Graphics'], dtype=object)"
      ]
     },
     "execution_count": 26,
     "metadata": {},
     "output_type": "execute_result"
    }
   ],
   "source": [
    "df_cleaned['graphics_coprocessor'].unique()"
   ]
  },
  {
   "cell_type": "code",
   "execution_count": 27,
   "id": "5612ffea-88f0-415e-8c25-786fbceefe26",
   "metadata": {},
   "outputs": [],
   "source": [
    "for i in range(len(df_cleaned)):\n",
    "    if 'INTEL' in df_cleaned['graphics_coprocessor'][i]:\n",
    "        df_cleaned['graphics_coprocessor'][i] = 'Intel'"
   ]
  },
  {
   "cell_type": "code",
   "execution_count": 28,
   "id": "fdfb87b2-f3be-484c-bb05-45fe6ab63257",
   "metadata": {},
   "outputs": [
    {
     "data": {
      "text/plain": [
       "array(['Intel', 'AMD Radeon R5', 'RTX 4000', 'AMD Radeon 610M',\n",
       "       'AMD Radeon Graphics', 'Integrated AMD Radeon™ Graphics',\n",
       "       'NVIDIA RTX A2000 w/4GB', 'NVIDIA GeForce RTX A4500', 'RTX 3000',\n",
       "       'Integrated Graphics', 'NVIDIA RTX A4500 16GB GDDR6 (4DP)',\n",
       "       'AMD Radeon R7', 'NVIDIA GeForce GTX 1070 OC with 8GB GDDR5',\n",
       "       'NVIDIA GeForce GT 720M', 'AMD Athlon Silver', 'Quadro P1000',\n",
       "       'NVIDIA Quadro T1000', 'RTX 2000', 'NVIDIA GeForce GTX 1060',\n",
       "       'Integrated Iris Xe Graphics', 'AMD', 'NVIDIA GeForce GTX 965M',\n",
       "       'NVIDIA Quadro P1000', 'NVIDIA GeForce GTX 1660Ti',\n",
       "       '2GB NVIDIA GeForce MX230 Graphics'], dtype=object)"
      ]
     },
     "execution_count": 28,
     "metadata": {},
     "output_type": "execute_result"
    }
   ],
   "source": [
    "df_cleaned['graphics_coprocessor'].unique()"
   ]
  },
  {
   "cell_type": "code",
   "execution_count": 29,
   "id": "3d9c7a07-171e-4cf5-8ab2-d3757ff562fc",
   "metadata": {},
   "outputs": [],
   "source": [
    "for i in range(len(df_cleaned)):\n",
    "    if 'Quadro' in df_cleaned['graphics_coprocessor'][i]:\n",
    "        df_cleaned['graphics_coprocessor'][i] = 'Nvidia Quadro'"
   ]
  },
  {
   "cell_type": "code",
   "execution_count": 30,
   "id": "8fb7dfbb-00de-4e0f-857b-cf9e7696f8f1",
   "metadata": {},
   "outputs": [
    {
     "data": {
      "text/plain": [
       "array(['Intel', 'AMD Radeon R5', 'RTX 4000', 'AMD Radeon 610M',\n",
       "       'AMD Radeon Graphics', 'Integrated AMD Radeon™ Graphics',\n",
       "       'NVIDIA RTX A2000 w/4GB', 'NVIDIA GeForce RTX A4500', 'RTX 3000',\n",
       "       'Integrated Graphics', 'NVIDIA RTX A4500 16GB GDDR6 (4DP)',\n",
       "       'AMD Radeon R7', 'NVIDIA GeForce GTX 1070 OC with 8GB GDDR5',\n",
       "       'NVIDIA GeForce GT 720M', 'AMD Athlon Silver', 'Nvidia Quadro',\n",
       "       'RTX 2000', 'NVIDIA GeForce GTX 1060',\n",
       "       'Integrated Iris Xe Graphics', 'AMD', 'NVIDIA GeForce GTX 965M',\n",
       "       'NVIDIA GeForce GTX 1660Ti', '2GB NVIDIA GeForce MX230 Graphics'],\n",
       "      dtype=object)"
      ]
     },
     "execution_count": 30,
     "metadata": {},
     "output_type": "execute_result"
    }
   ],
   "source": [
    "df_cleaned['graphics_coprocessor'].unique()"
   ]
  },
  {
   "cell_type": "code",
   "execution_count": 31,
   "id": "5978176d-8109-454f-b47c-aad41c7a1919",
   "metadata": {},
   "outputs": [],
   "source": [
    "for i in range(len(df_cleaned)):\n",
    "    if 'Radeon R5' in df_cleaned['graphics_coprocessor'][i]:\n",
    "        df_cleaned['graphics_coprocessor'][i] = 'R5'\n",
    "    elif 'Radeon R7' in df_cleaned['graphics_coprocessor'][i]:\n",
    "        df_cleaned['graphics_coprocessor'][i] = 'R7'"
   ]
  },
  {
   "cell_type": "code",
   "execution_count": 32,
   "id": "f2a9f484-43dc-4158-a25d-a200042ce67a",
   "metadata": {},
   "outputs": [
    {
     "data": {
      "text/plain": [
       "array(['Intel', 'R5', 'RTX 4000', 'AMD Radeon 610M',\n",
       "       'AMD Radeon Graphics', 'Integrated AMD Radeon™ Graphics',\n",
       "       'NVIDIA RTX A2000 w/4GB', 'NVIDIA GeForce RTX A4500', 'RTX 3000',\n",
       "       'Integrated Graphics', 'NVIDIA RTX A4500 16GB GDDR6 (4DP)', 'R7',\n",
       "       'NVIDIA GeForce GTX 1070 OC with 8GB GDDR5',\n",
       "       'NVIDIA GeForce GT 720M', 'AMD Athlon Silver', 'Nvidia Quadro',\n",
       "       'RTX 2000', 'NVIDIA GeForce GTX 1060',\n",
       "       'Integrated Iris Xe Graphics', 'AMD', 'NVIDIA GeForce GTX 965M',\n",
       "       'NVIDIA GeForce GTX 1660Ti', '2GB NVIDIA GeForce MX230 Graphics'],\n",
       "      dtype=object)"
      ]
     },
     "execution_count": 32,
     "metadata": {},
     "output_type": "execute_result"
    }
   ],
   "source": [
    "df_cleaned['graphics_coprocessor'].unique()"
   ]
  },
  {
   "cell_type": "code",
   "execution_count": 33,
   "id": "04a9cf42-5fa3-4110-9bae-27673b2a2e01",
   "metadata": {},
   "outputs": [],
   "source": [
    "for i in range(len(df_cleaned)):\n",
    "    if 'AMD' in df_cleaned['graphics_coprocessor'][i]:\n",
    "        df_cleaned['graphics_coprocessor'][i] = 'AMD'"
   ]
  },
  {
   "cell_type": "code",
   "execution_count": 34,
   "id": "dbf545d4-181f-46ae-9d44-06ba91f8967f",
   "metadata": {},
   "outputs": [
    {
     "data": {
      "text/plain": [
       "array(['Intel', 'R5', 'RTX 4000', 'AMD', 'NVIDIA RTX A2000 w/4GB',\n",
       "       'NVIDIA GeForce RTX A4500', 'RTX 3000', 'Integrated Graphics',\n",
       "       'NVIDIA RTX A4500 16GB GDDR6 (4DP)', 'R7',\n",
       "       'NVIDIA GeForce GTX 1070 OC with 8GB GDDR5',\n",
       "       'NVIDIA GeForce GT 720M', 'Nvidia Quadro', 'RTX 2000',\n",
       "       'NVIDIA GeForce GTX 1060', 'Integrated Iris Xe Graphics',\n",
       "       'NVIDIA GeForce GTX 965M', 'NVIDIA GeForce GTX 1660Ti',\n",
       "       '2GB NVIDIA GeForce MX230 Graphics'], dtype=object)"
      ]
     },
     "execution_count": 34,
     "metadata": {},
     "output_type": "execute_result"
    }
   ],
   "source": [
    "df_cleaned['graphics_coprocessor'].unique()"
   ]
  },
  {
   "cell_type": "code",
   "execution_count": 35,
   "id": "91100d2a-02a2-4669-9a9b-e290ad3c9861",
   "metadata": {},
   "outputs": [],
   "source": [
    "for i in range(len(df_cleaned)):\n",
    "    if 'NVIDIA RTX' in df_cleaned['graphics_coprocessor'][i]:\n",
    "        df_cleaned['graphics_coprocessor'][i] = 'RTX'"
   ]
  },
  {
   "cell_type": "code",
   "execution_count": 36,
   "id": "69e9856e-eeac-4cc4-bb47-b3aa897b2b12",
   "metadata": {},
   "outputs": [
    {
     "data": {
      "text/plain": [
       "array(['Intel', 'R5', 'RTX 4000', 'AMD', 'RTX',\n",
       "       'NVIDIA GeForce RTX A4500', 'RTX 3000', 'Integrated Graphics',\n",
       "       'R7', 'NVIDIA GeForce GTX 1070 OC with 8GB GDDR5',\n",
       "       'NVIDIA GeForce GT 720M', 'Nvidia Quadro', 'RTX 2000',\n",
       "       'NVIDIA GeForce GTX 1060', 'Integrated Iris Xe Graphics',\n",
       "       'NVIDIA GeForce GTX 965M', 'NVIDIA GeForce GTX 1660Ti',\n",
       "       '2GB NVIDIA GeForce MX230 Graphics'], dtype=object)"
      ]
     },
     "execution_count": 36,
     "metadata": {},
     "output_type": "execute_result"
    }
   ],
   "source": [
    "df_cleaned['graphics_coprocessor'].unique()"
   ]
  },
  {
   "cell_type": "code",
   "execution_count": 37,
   "id": "4e2b6ae2-a2e6-4c36-8169-43d2f48064c5",
   "metadata": {},
   "outputs": [
    {
     "data": {
      "text/plain": [
       "array(['Intel', 'R5', 'RTX 4000', 'AMD', 'RTX',\n",
       "       'NVIDIA GeForce RTX A4500', 'RTX 3000', 'Integrated Graphics',\n",
       "       'R7', 'GTX 1000', 'NVIDIA GeForce GT 720M', 'Nvidia Quadro',\n",
       "       'RTX 2000', 'Integrated Iris Xe Graphics',\n",
       "       'NVIDIA GeForce GTX 965M', '2GB NVIDIA GeForce MX230 Graphics'],\n",
       "      dtype=object)"
      ]
     },
     "execution_count": 37,
     "metadata": {},
     "output_type": "execute_result"
    }
   ],
   "source": [
    "for i in range(len(df_cleaned)):\n",
    "    if 'GTX 1' in df_cleaned['graphics_coprocessor'][i]:\n",
    "        df_cleaned['graphics_coprocessor'][i] = 'GTX 1000'\n",
    "df_cleaned['graphics_coprocessor'].unique()"
   ]
  },
  {
   "cell_type": "code",
   "execution_count": 38,
   "id": "588d54bc-5eaf-4e82-b82b-8e90429ae8b8",
   "metadata": {},
   "outputs": [
    {
     "data": {
      "text/plain": [
       "array(['Intel', 'R5', 'RTX 4000', 'AMD', 'RTX', 'Nvidia', 'RTX 3000',\n",
       "       'Integrated Graphics', 'R7', 'GTX 1000', 'Nvidia Quadro',\n",
       "       'RTX 2000', 'Integrated Iris Xe Graphics'], dtype=object)"
      ]
     },
     "execution_count": 38,
     "metadata": {},
     "output_type": "execute_result"
    }
   ],
   "source": [
    "for i in range(len(df_cleaned)):\n",
    "    if 'NVIDIA' in df_cleaned['graphics_coprocessor'][i]:\n",
    "        df_cleaned['graphics_coprocessor'][i] = 'Nvidia'\n",
    "df_cleaned['graphics_coprocessor'].unique()"
   ]
  },
  {
   "cell_type": "code",
   "execution_count": 39,
   "id": "d78f0a58-9ae0-462d-b2ac-08f60c45c289",
   "metadata": {},
   "outputs": [
    {
     "data": {
      "text/plain": [
       "(array([876.,   4.,   7.,   3.,   5.,  10.,   1.,   4.,   3.,   6.]),\n",
       " array([ 0. ,  1.2,  2.4,  3.6,  4.8,  6. ,  7.2,  8.4,  9.6, 10.8, 12. ]),\n",
       " <BarContainer object of 10 artists>)"
      ]
     },
     "execution_count": 39,
     "metadata": {},
     "output_type": "execute_result"
    },
    {
     "data": {
      "image/png": "[encoded data removed]",
      "text/plain": [
       "<Figure size 640x480 with 1 Axes>"
      ]
     },
     "metadata": {},
     "output_type": "display_data"
    }
   ],
   "source": [
    "plt.hist(df_cleaned['graphics_coprocessor'])"
   ]
  },
  {
   "cell_type": "code",
   "execution_count": 40,
   "id": "86aff360-002a-4e31-99c5-75fcb0e18c39",
   "metadata": {},
   "outputs": [
    {
     "data": {
      "text/html": [
       "<div>\n",
       "<style scoped>\n",
       "    .dataframe tbody tr th:only-of-type {\n",
       "        vertical-align: middle;\n",
       "    }\n",
       "\n",
       "    .dataframe tbody tr th {\n",
       "        vertical-align: top;\n",
       "    }\n",
       "\n",
       "    .dataframe thead th {\n",
       "        text-align: right;\n",
       "    }\n",
       "</style>\n",
       "<table border=\"1\" class=\"dataframe\">\n",
       "  <thead>\n",
       "    <tr style=\"text-align: right;\">\n",
       "      <th></th>\n",
       "      <th>index</th>\n",
       "      <th>brand</th>\n",
       "      <th>screen_size</th>\n",
       "      <th>harddisk</th>\n",
       "      <th>cpu</th>\n",
       "      <th>ram</th>\n",
       "      <th>OS</th>\n",
       "      <th>graphics</th>\n",
       "      <th>graphics_coprocessor</th>\n",
       "      <th>cpu_speed</th>\n",
       "      <th>price</th>\n",
       "    </tr>\n",
       "  </thead>\n",
       "  <tbody>\n",
       "    <tr>\n",
       "      <th>0</th>\n",
       "      <td>0</td>\n",
       "      <td>ROKC</td>\n",
       "      <td>14.0</td>\n",
       "      <td>1000.0</td>\n",
       "      <td>Intel Core i7</td>\n",
       "      <td>8.0</td>\n",
       "      <td>Windows 11</td>\n",
       "      <td>Integrated</td>\n",
       "      <td>Intel</td>\n",
       "      <td>1.2</td>\n",
       "      <td>589.99</td>\n",
       "    </tr>\n",
       "    <tr>\n",
       "      <th>1</th>\n",
       "      <td>12</td>\n",
       "      <td>ROKC</td>\n",
       "      <td>15.6</td>\n",
       "      <td>1152.0</td>\n",
       "      <td>Pentium</td>\n",
       "      <td>20.0</td>\n",
       "      <td>Windows 11</td>\n",
       "      <td>Integrated</td>\n",
       "      <td>Intel</td>\n",
       "      <td>1.1</td>\n",
       "      <td>389.99</td>\n",
       "    </tr>\n",
       "    <tr>\n",
       "      <th>2</th>\n",
       "      <td>13</td>\n",
       "      <td>HP</td>\n",
       "      <td>15.6</td>\n",
       "      <td>1000.0</td>\n",
       "      <td>Pentium N5000</td>\n",
       "      <td>16.0</td>\n",
       "      <td>Windows 11</td>\n",
       "      <td>Integrated</td>\n",
       "      <td>Intel</td>\n",
       "      <td>1.1</td>\n",
       "      <td>459.99</td>\n",
       "    </tr>\n",
       "    <tr>\n",
       "      <th>3</th>\n",
       "      <td>17</td>\n",
       "      <td>Gateway</td>\n",
       "      <td>11.6</td>\n",
       "      <td>64.0</td>\n",
       "      <td>Celeron N4020</td>\n",
       "      <td>4.0</td>\n",
       "      <td>Windows 10 S</td>\n",
       "      <td>Integrated</td>\n",
       "      <td>Intel</td>\n",
       "      <td>1.1</td>\n",
       "      <td>155.00</td>\n",
       "    </tr>\n",
       "    <tr>\n",
       "      <th>4</th>\n",
       "      <td>29</td>\n",
       "      <td>ROKC</td>\n",
       "      <td>14.0</td>\n",
       "      <td>1000.0</td>\n",
       "      <td>Intel Core i7</td>\n",
       "      <td>8.0</td>\n",
       "      <td>Windows 11</td>\n",
       "      <td>Integrated</td>\n",
       "      <td>Intel</td>\n",
       "      <td>1.2</td>\n",
       "      <td>589.99</td>\n",
       "    </tr>\n",
       "    <tr>\n",
       "      <th>...</th>\n",
       "      <td>...</td>\n",
       "      <td>...</td>\n",
       "      <td>...</td>\n",
       "      <td>...</td>\n",
       "      <td>...</td>\n",
       "      <td>...</td>\n",
       "      <td>...</td>\n",
       "      <td>...</td>\n",
       "      <td>...</td>\n",
       "      <td>...</td>\n",
       "      <td>...</td>\n",
       "    </tr>\n",
       "    <tr>\n",
       "      <th>914</th>\n",
       "      <td>4434</td>\n",
       "      <td>ROKC</td>\n",
       "      <td>15.6</td>\n",
       "      <td>1152.0</td>\n",
       "      <td>Pentium</td>\n",
       "      <td>20.0</td>\n",
       "      <td>Windows 11</td>\n",
       "      <td>Integrated</td>\n",
       "      <td>Intel</td>\n",
       "      <td>1.1</td>\n",
       "      <td>389.99</td>\n",
       "    </tr>\n",
       "    <tr>\n",
       "      <th>915</th>\n",
       "      <td>4435</td>\n",
       "      <td>HP</td>\n",
       "      <td>14.0</td>\n",
       "      <td>64.0</td>\n",
       "      <td>Celeron N4000</td>\n",
       "      <td>16.0</td>\n",
       "      <td>Windows 11</td>\n",
       "      <td>Integrated</td>\n",
       "      <td>Intel</td>\n",
       "      <td>1.1</td>\n",
       "      <td>389.99</td>\n",
       "    </tr>\n",
       "    <tr>\n",
       "      <th>916</th>\n",
       "      <td>4436</td>\n",
       "      <td>HP</td>\n",
       "      <td>15.6</td>\n",
       "      <td>1000.0</td>\n",
       "      <td>Pentium N5000</td>\n",
       "      <td>16.0</td>\n",
       "      <td>Windows 11</td>\n",
       "      <td>Integrated</td>\n",
       "      <td>Intel</td>\n",
       "      <td>1.1</td>\n",
       "      <td>459.99</td>\n",
       "    </tr>\n",
       "    <tr>\n",
       "      <th>917</th>\n",
       "      <td>4442</td>\n",
       "      <td>ROKC</td>\n",
       "      <td>14.0</td>\n",
       "      <td>1000.0</td>\n",
       "      <td>Intel Core i7</td>\n",
       "      <td>8.0</td>\n",
       "      <td>Windows 11</td>\n",
       "      <td>Integrated</td>\n",
       "      <td>Intel</td>\n",
       "      <td>1.2</td>\n",
       "      <td>589.99</td>\n",
       "    </tr>\n",
       "    <tr>\n",
       "      <th>918</th>\n",
       "      <td>4444</td>\n",
       "      <td>Dell</td>\n",
       "      <td>14.0</td>\n",
       "      <td>512.0</td>\n",
       "      <td>Core i5</td>\n",
       "      <td>8.0</td>\n",
       "      <td>Windows 10 Pro</td>\n",
       "      <td>Integrated</td>\n",
       "      <td>Intel</td>\n",
       "      <td>0.9</td>\n",
       "      <td>1771.99</td>\n",
       "    </tr>\n",
       "  </tbody>\n",
       "</table>\n",
       "<p>919 rows × 11 columns</p>\n",
       "</div>"
      ],
      "text/plain": [
       "     index    brand  screen_size  harddisk            cpu   ram  \\\n",
       "0        0     ROKC         14.0    1000.0  Intel Core i7   8.0   \n",
       "1       12     ROKC         15.6    1152.0        Pentium  20.0   \n",
       "2       13       HP         15.6    1000.0  Pentium N5000  16.0   \n",
       "3       17  Gateway         11.6      64.0  Celeron N4020   4.0   \n",
       "4       29     ROKC         14.0    1000.0  Intel Core i7   8.0   \n",
       "..     ...      ...          ...       ...            ...   ...   \n",
       "914   4434     ROKC         15.6    1152.0        Pentium  20.0   \n",
       "915   4435       HP         14.0      64.0  Celeron N4000  16.0   \n",
       "916   4436       HP         15.6    1000.0  Pentium N5000  16.0   \n",
       "917   4442     ROKC         14.0    1000.0  Intel Core i7   8.0   \n",
       "918   4444     Dell         14.0     512.0        Core i5   8.0   \n",
       "\n",
       "                 OS    graphics graphics_coprocessor  cpu_speed    price  \n",
       "0        Windows 11  Integrated                Intel        1.2   589.99  \n",
       "1        Windows 11  Integrated                Intel        1.1   389.99  \n",
       "2        Windows 11  Integrated                Intel        1.1   459.99  \n",
       "3      Windows 10 S  Integrated                Intel        1.1   155.00  \n",
       "4        Windows 11  Integrated                Intel        1.2   589.99  \n",
       "..              ...         ...                  ...        ...      ...  \n",
       "914      Windows 11  Integrated                Intel        1.1   389.99  \n",
       "915      Windows 11  Integrated                Intel        1.1   389.99  \n",
       "916      Windows 11  Integrated                Intel        1.1   459.99  \n",
       "917      Windows 11  Integrated                Intel        1.2   589.99  \n",
       "918  Windows 10 Pro  Integrated                Intel        0.9  1771.99  \n",
       "\n",
       "[919 rows x 11 columns]"
      ]
     },
     "execution_count": 40,
     "metadata": {},
     "output_type": "execute_result"
    }
   ],
   "source": [
    "df_cleaned"
   ]
  },
  {
   "cell_type": "code",
   "execution_count": 41,
   "id": "0d6ced66-b15b-4896-ac0b-604af2c95fc5",
   "metadata": {},
   "outputs": [
    {
     "data": {
      "text/plain": [
       "array(['Windows 11', 'Windows 10 S', 'Windows 11 Home', 'Windows 11 Pro',\n",
       "       'Chrome OS', 'Windows 7 Professional', 'Windows 7',\n",
       "       'Windows 10 Pro 64 Bit-Multi-Language Supports English/Spanish/French',\n",
       "       'Windows 10 S, Windows 10', 'Windows 10', 'Windows 10 Pro',\n",
       "       'Windows 7 Home Premium', 'Windows 11 S',\n",
       "       'Windows 10 Pro 64 Bit Multi-Language Support English/French/Spanish',\n",
       "       'Windows 10 64 Bit-Multi-Language Supports English/Spanish/French',\n",
       "       'Windows 10 Home', 'Windows 8',\n",
       "       'Windows 10 Pro (English/French/Spanish)',\n",
       "       'Win 10 Pro 64 Bit Multi-Language Support English/French/Spanish'],\n",
       "      dtype=object)"
      ]
     },
     "execution_count": 41,
     "metadata": {},
     "output_type": "execute_result"
    }
   ],
   "source": [
    "df_cleaned['OS'].unique()"
   ]
  },
  {
   "cell_type": "code",
   "execution_count": 42,
   "id": "392e8b94-aab3-4a59-bc8b-ae4be2890b89",
   "metadata": {},
   "outputs": [
    {
     "data": {
      "text/plain": [
       "array(['Win11', 'Win10', 'Chrome OS', 'Win7', 'Win8',\n",
       "       'Win 10 Pro 64 Bit Multi-Language Support English/French/Spanish'],\n",
       "      dtype=object)"
      ]
     },
     "execution_count": 42,
     "metadata": {},
     "output_type": "execute_result"
    }
   ],
   "source": [
    "for i in range(len(df_cleaned)):\n",
    "    if 'Windows 7' in df_cleaned['OS'][i]:\n",
    "        df_cleaned['OS'][i] = 'Win7'\n",
    "    elif 'Windows 8' in df_cleaned['OS'][i]:\n",
    "        df_cleaned['OS'][i] = 'Win8'\n",
    "    elif 'Windows 10' in df_cleaned['OS'][i]:\n",
    "        df_cleaned['OS'][i] = 'Win10'\n",
    "    elif 'Windows 11' in df_cleaned['OS'][i]:\n",
    "        df_cleaned['OS'][i] = 'Win11'\n",
    "df_cleaned['OS'].unique()"
   ]
  },
  {
   "cell_type": "code",
   "execution_count": 43,
   "id": "b24b5019-913b-48c5-9693-101b8cc5bedf",
   "metadata": {},
   "outputs": [
    {
     "data": {
      "text/plain": [
       "(array([840.,   0.,  65.,   0.,   0.,   5.,   0.,   7.,   0.,   2.]),\n",
       " array([0. , 0.4, 0.8, 1.2, 1.6, 2. , 2.4, 2.8, 3.2, 3.6, 4. ]),\n",
       " <BarContainer object of 10 artists>)"
      ]
     },
     "execution_count": 43,
     "metadata": {},
     "output_type": "execute_result"
    },
    {
     "data": {
      "image/png": "[encoded data removed]",
      "text/plain": [
       "<Figure size 640x480 with 1 Axes>"
      ]
     },
     "metadata": {},
     "output_type": "display_data"
    }
   ],
   "source": [
    "for i in range(len(df_cleaned)):\n",
    "    if 'Win 10' in df_cleaned['OS'][i]:\n",
    "        df_cleaned['OS'][i] = 'Win10'\n",
    "plt.hist(df_cleaned['OS'])"
   ]
  },
  {
   "cell_type": "code",
   "execution_count": 44,
   "id": "d68f02c1-bde7-42c3-aab3-fe38f8ce4c30",
   "metadata": {},
   "outputs": [
    {
     "data": {
      "text/html": [
       "<div>\n",
       "<style scoped>\n",
       "    .dataframe tbody tr th:only-of-type {\n",
       "        vertical-align: middle;\n",
       "    }\n",
       "\n",
       "    .dataframe tbody tr th {\n",
       "        vertical-align: top;\n",
       "    }\n",
       "\n",
       "    .dataframe thead th {\n",
       "        text-align: right;\n",
       "    }\n",
       "</style>\n",
       "<table border=\"1\" class=\"dataframe\">\n",
       "  <thead>\n",
       "    <tr style=\"text-align: right;\">\n",
       "      <th></th>\n",
       "      <th>index</th>\n",
       "      <th>brand</th>\n",
       "      <th>screen_size</th>\n",
       "      <th>harddisk</th>\n",
       "      <th>cpu</th>\n",
       "      <th>ram</th>\n",
       "      <th>OS</th>\n",
       "      <th>graphics</th>\n",
       "      <th>graphics_coprocessor</th>\n",
       "      <th>cpu_speed</th>\n",
       "      <th>price</th>\n",
       "    </tr>\n",
       "  </thead>\n",
       "  <tbody>\n",
       "    <tr>\n",
       "      <th>0</th>\n",
       "      <td>0</td>\n",
       "      <td>ROKC</td>\n",
       "      <td>14.0</td>\n",
       "      <td>1000.0</td>\n",
       "      <td>Intel Core i7</td>\n",
       "      <td>8.0</td>\n",
       "      <td>Win11</td>\n",
       "      <td>Integrated</td>\n",
       "      <td>Intel</td>\n",
       "      <td>1.2</td>\n",
       "      <td>589.99</td>\n",
       "    </tr>\n",
       "    <tr>\n",
       "      <th>1</th>\n",
       "      <td>12</td>\n",
       "      <td>ROKC</td>\n",
       "      <td>15.6</td>\n",
       "      <td>1152.0</td>\n",
       "      <td>Pentium</td>\n",
       "      <td>20.0</td>\n",
       "      <td>Win11</td>\n",
       "      <td>Integrated</td>\n",
       "      <td>Intel</td>\n",
       "      <td>1.1</td>\n",
       "      <td>389.99</td>\n",
       "    </tr>\n",
       "    <tr>\n",
       "      <th>2</th>\n",
       "      <td>13</td>\n",
       "      <td>HP</td>\n",
       "      <td>15.6</td>\n",
       "      <td>1000.0</td>\n",
       "      <td>Pentium N5000</td>\n",
       "      <td>16.0</td>\n",
       "      <td>Win11</td>\n",
       "      <td>Integrated</td>\n",
       "      <td>Intel</td>\n",
       "      <td>1.1</td>\n",
       "      <td>459.99</td>\n",
       "    </tr>\n",
       "    <tr>\n",
       "      <th>3</th>\n",
       "      <td>17</td>\n",
       "      <td>Gateway</td>\n",
       "      <td>11.6</td>\n",
       "      <td>64.0</td>\n",
       "      <td>Celeron N4020</td>\n",
       "      <td>4.0</td>\n",
       "      <td>Win10</td>\n",
       "      <td>Integrated</td>\n",
       "      <td>Intel</td>\n",
       "      <td>1.1</td>\n",
       "      <td>155.00</td>\n",
       "    </tr>\n",
       "    <tr>\n",
       "      <th>4</th>\n",
       "      <td>29</td>\n",
       "      <td>ROKC</td>\n",
       "      <td>14.0</td>\n",
       "      <td>1000.0</td>\n",
       "      <td>Intel Core i7</td>\n",
       "      <td>8.0</td>\n",
       "      <td>Win11</td>\n",
       "      <td>Integrated</td>\n",
       "      <td>Intel</td>\n",
       "      <td>1.2</td>\n",
       "      <td>589.99</td>\n",
       "    </tr>\n",
       "    <tr>\n",
       "      <th>...</th>\n",
       "      <td>...</td>\n",
       "      <td>...</td>\n",
       "      <td>...</td>\n",
       "      <td>...</td>\n",
       "      <td>...</td>\n",
       "      <td>...</td>\n",
       "      <td>...</td>\n",
       "      <td>...</td>\n",
       "      <td>...</td>\n",
       "      <td>...</td>\n",
       "      <td>...</td>\n",
       "    </tr>\n",
       "    <tr>\n",
       "      <th>914</th>\n",
       "      <td>4434</td>\n",
       "      <td>ROKC</td>\n",
       "      <td>15.6</td>\n",
       "      <td>1152.0</td>\n",
       "      <td>Pentium</td>\n",
       "      <td>20.0</td>\n",
       "      <td>Win11</td>\n",
       "      <td>Integrated</td>\n",
       "      <td>Intel</td>\n",
       "      <td>1.1</td>\n",
       "      <td>389.99</td>\n",
       "    </tr>\n",
       "    <tr>\n",
       "      <th>915</th>\n",
       "      <td>4435</td>\n",
       "      <td>HP</td>\n",
       "      <td>14.0</td>\n",
       "      <td>64.0</td>\n",
       "      <td>Celeron N4000</td>\n",
       "      <td>16.0</td>\n",
       "      <td>Win11</td>\n",
       "      <td>Integrated</td>\n",
       "      <td>Intel</td>\n",
       "      <td>1.1</td>\n",
       "      <td>389.99</td>\n",
       "    </tr>\n",
       "    <tr>\n",
       "      <th>916</th>\n",
       "      <td>4436</td>\n",
       "      <td>HP</td>\n",
       "      <td>15.6</td>\n",
       "      <td>1000.0</td>\n",
       "      <td>Pentium N5000</td>\n",
       "      <td>16.0</td>\n",
       "      <td>Win11</td>\n",
       "      <td>Integrated</td>\n",
       "      <td>Intel</td>\n",
       "      <td>1.1</td>\n",
       "      <td>459.99</td>\n",
       "    </tr>\n",
       "    <tr>\n",
       "      <th>917</th>\n",
       "      <td>4442</td>\n",
       "      <td>ROKC</td>\n",
       "      <td>14.0</td>\n",
       "      <td>1000.0</td>\n",
       "      <td>Intel Core i7</td>\n",
       "      <td>8.0</td>\n",
       "      <td>Win11</td>\n",
       "      <td>Integrated</td>\n",
       "      <td>Intel</td>\n",
       "      <td>1.2</td>\n",
       "      <td>589.99</td>\n",
       "    </tr>\n",
       "    <tr>\n",
       "      <th>918</th>\n",
       "      <td>4444</td>\n",
       "      <td>Dell</td>\n",
       "      <td>14.0</td>\n",
       "      <td>512.0</td>\n",
       "      <td>Core i5</td>\n",
       "      <td>8.0</td>\n",
       "      <td>Win10</td>\n",
       "      <td>Integrated</td>\n",
       "      <td>Intel</td>\n",
       "      <td>0.9</td>\n",
       "      <td>1771.99</td>\n",
       "    </tr>\n",
       "  </tbody>\n",
       "</table>\n",
       "<p>919 rows × 11 columns</p>\n",
       "</div>"
      ],
      "text/plain": [
       "     index    brand  screen_size  harddisk            cpu   ram     OS  \\\n",
       "0        0     ROKC         14.0    1000.0  Intel Core i7   8.0  Win11   \n",
       "1       12     ROKC         15.6    1152.0        Pentium  20.0  Win11   \n",
       "2       13       HP         15.6    1000.0  Pentium N5000  16.0  Win11   \n",
       "3       17  Gateway         11.6      64.0  Celeron N4020   4.0  Win10   \n",
       "4       29     ROKC         14.0    1000.0  Intel Core i7   8.0  Win11   \n",
       "..     ...      ...          ...       ...            ...   ...    ...   \n",
       "914   4434     ROKC         15.6    1152.0        Pentium  20.0  Win11   \n",
       "915   4435       HP         14.0      64.0  Celeron N4000  16.0  Win11   \n",
       "916   4436       HP         15.6    1000.0  Pentium N5000  16.0  Win11   \n",
       "917   4442     ROKC         14.0    1000.0  Intel Core i7   8.0  Win11   \n",
       "918   4444     Dell         14.0     512.0        Core i5   8.0  Win10   \n",
       "\n",
       "       graphics graphics_coprocessor  cpu_speed    price  \n",
       "0    Integrated                Intel        1.2   589.99  \n",
       "1    Integrated                Intel        1.1   389.99  \n",
       "2    Integrated                Intel        1.1   459.99  \n",
       "3    Integrated                Intel        1.1   155.00  \n",
       "4    Integrated                Intel        1.2   589.99  \n",
       "..          ...                  ...        ...      ...  \n",
       "914  Integrated                Intel        1.1   389.99  \n",
       "915  Integrated                Intel        1.1   389.99  \n",
       "916  Integrated                Intel        1.1   459.99  \n",
       "917  Integrated                Intel        1.2   589.99  \n",
       "918  Integrated                Intel        0.9  1771.99  \n",
       "\n",
       "[919 rows x 11 columns]"
      ]
     },
     "execution_count": 44,
     "metadata": {},
     "output_type": "execute_result"
    }
   ],
   "source": [
    "df_cleaned"
   ]
  },
  {
   "cell_type": "code",
   "execution_count": 45,
   "id": "ab6e82fa-83c8-4458-be54-817aa996c8f2",
   "metadata": {},
   "outputs": [
    {
     "data": {
      "text/plain": [
       "count      919\n",
       "unique      13\n",
       "top       ROKC\n",
       "freq       488\n",
       "Name: brand, dtype: object"
      ]
     },
     "execution_count": 45,
     "metadata": {},
     "output_type": "execute_result"
    }
   ],
   "source": [
    "df_cleaned['brand'].describe()"
   ]
  },
  {
   "cell_type": "code",
   "execution_count": 46,
   "id": "e67abb3d-119f-4ab6-a5dc-a662bdda86ac",
   "metadata": {},
   "outputs": [
    {
     "data": {
      "text/plain": [
       "count       919\n",
       "unique        5\n",
       "top       Win11\n",
       "freq        840\n",
       "Name: OS, dtype: object"
      ]
     },
     "execution_count": 46,
     "metadata": {},
     "output_type": "execute_result"
    }
   ],
   "source": [
    "df_cleaned['OS'].describe()"
   ]
  },
  {
   "cell_type": "code",
   "execution_count": 47,
   "id": "e7330167-3b7c-4af2-b66b-d7087f77e013",
   "metadata": {},
   "outputs": [
    {
     "data": {
      "text/plain": [
       "count       919\n",
       "unique       13\n",
       "top       Intel\n",
       "freq        874\n",
       "Name: graphics_coprocessor, dtype: object"
      ]
     },
     "execution_count": 47,
     "metadata": {},
     "output_type": "execute_result"
    }
   ],
   "source": [
    "df_cleaned['graphics_coprocessor'].describe()"
   ]
  },
  {
   "cell_type": "code",
   "execution_count": 48,
   "id": "8af022d1-7dcc-4e9c-8508-22d23fb09632",
   "metadata": {},
   "outputs": [],
   "source": [
    "df_cleaned = df_cleaned.drop(columns=['index', 'cpu', ])"
   ]
  },
  {
   "cell_type": "code",
   "execution_count": 49,
   "id": "7668aa52-bd83-458d-9f6c-efbef6731122",
   "metadata": {},
   "outputs": [
    {
     "data": {
      "text/html": [
       "<div>\n",
       "<style scoped>\n",
       "    .dataframe tbody tr th:only-of-type {\n",
       "        vertical-align: middle;\n",
       "    }\n",
       "\n",
       "    .dataframe tbody tr th {\n",
       "        vertical-align: top;\n",
       "    }\n",
       "\n",
       "    .dataframe thead th {\n",
       "        text-align: right;\n",
       "    }\n",
       "</style>\n",
       "<table border=\"1\" class=\"dataframe\">\n",
       "  <thead>\n",
       "    <tr style=\"text-align: right;\">\n",
       "      <th></th>\n",
       "      <th>brand</th>\n",
       "      <th>screen_size</th>\n",
       "      <th>harddisk</th>\n",
       "      <th>ram</th>\n",
       "      <th>OS</th>\n",
       "      <th>graphics</th>\n",
       "      <th>graphics_coprocessor</th>\n",
       "      <th>cpu_speed</th>\n",
       "      <th>price</th>\n",
       "    </tr>\n",
       "  </thead>\n",
       "  <tbody>\n",
       "    <tr>\n",
       "      <th>0</th>\n",
       "      <td>ROKC</td>\n",
       "      <td>14.0</td>\n",
       "      <td>1000.0</td>\n",
       "      <td>8.0</td>\n",
       "      <td>Win11</td>\n",
       "      <td>Integrated</td>\n",
       "      <td>Intel</td>\n",
       "      <td>1.2</td>\n",
       "      <td>589.99</td>\n",
       "    </tr>\n",
       "    <tr>\n",
       "      <th>1</th>\n",
       "      <td>ROKC</td>\n",
       "      <td>15.6</td>\n",
       "      <td>1152.0</td>\n",
       "      <td>20.0</td>\n",
       "      <td>Win11</td>\n",
       "      <td>Integrated</td>\n",
       "      <td>Intel</td>\n",
       "      <td>1.1</td>\n",
       "      <td>389.99</td>\n",
       "    </tr>\n",
       "    <tr>\n",
       "      <th>2</th>\n",
       "      <td>HP</td>\n",
       "      <td>15.6</td>\n",
       "      <td>1000.0</td>\n",
       "      <td>16.0</td>\n",
       "      <td>Win11</td>\n",
       "      <td>Integrated</td>\n",
       "      <td>Intel</td>\n",
       "      <td>1.1</td>\n",
       "      <td>459.99</td>\n",
       "    </tr>\n",
       "    <tr>\n",
       "      <th>3</th>\n",
       "      <td>Gateway</td>\n",
       "      <td>11.6</td>\n",
       "      <td>64.0</td>\n",
       "      <td>4.0</td>\n",
       "      <td>Win10</td>\n",
       "      <td>Integrated</td>\n",
       "      <td>Intel</td>\n",
       "      <td>1.1</td>\n",
       "      <td>155.00</td>\n",
       "    </tr>\n",
       "    <tr>\n",
       "      <th>4</th>\n",
       "      <td>ROKC</td>\n",
       "      <td>14.0</td>\n",
       "      <td>1000.0</td>\n",
       "      <td>8.0</td>\n",
       "      <td>Win11</td>\n",
       "      <td>Integrated</td>\n",
       "      <td>Intel</td>\n",
       "      <td>1.2</td>\n",
       "      <td>589.99</td>\n",
       "    </tr>\n",
       "    <tr>\n",
       "      <th>...</th>\n",
       "      <td>...</td>\n",
       "      <td>...</td>\n",
       "      <td>...</td>\n",
       "      <td>...</td>\n",
       "      <td>...</td>\n",
       "      <td>...</td>\n",
       "      <td>...</td>\n",
       "      <td>...</td>\n",
       "      <td>...</td>\n",
       "    </tr>\n",
       "    <tr>\n",
       "      <th>914</th>\n",
       "      <td>ROKC</td>\n",
       "      <td>15.6</td>\n",
       "      <td>1152.0</td>\n",
       "      <td>20.0</td>\n",
       "      <td>Win11</td>\n",
       "      <td>Integrated</td>\n",
       "      <td>Intel</td>\n",
       "      <td>1.1</td>\n",
       "      <td>389.99</td>\n",
       "    </tr>\n",
       "    <tr>\n",
       "      <th>915</th>\n",
       "      <td>HP</td>\n",
       "      <td>14.0</td>\n",
       "      <td>64.0</td>\n",
       "      <td>16.0</td>\n",
       "      <td>Win11</td>\n",
       "      <td>Integrated</td>\n",
       "      <td>Intel</td>\n",
       "      <td>1.1</td>\n",
       "      <td>389.99</td>\n",
       "    </tr>\n",
       "    <tr>\n",
       "      <th>916</th>\n",
       "      <td>HP</td>\n",
       "      <td>15.6</td>\n",
       "      <td>1000.0</td>\n",
       "      <td>16.0</td>\n",
       "      <td>Win11</td>\n",
       "      <td>Integrated</td>\n",
       "      <td>Intel</td>\n",
       "      <td>1.1</td>\n",
       "      <td>459.99</td>\n",
       "    </tr>\n",
       "    <tr>\n",
       "      <th>917</th>\n",
       "      <td>ROKC</td>\n",
       "      <td>14.0</td>\n",
       "      <td>1000.0</td>\n",
       "      <td>8.0</td>\n",
       "      <td>Win11</td>\n",
       "      <td>Integrated</td>\n",
       "      <td>Intel</td>\n",
       "      <td>1.2</td>\n",
       "      <td>589.99</td>\n",
       "    </tr>\n",
       "    <tr>\n",
       "      <th>918</th>\n",
       "      <td>Dell</td>\n",
       "      <td>14.0</td>\n",
       "      <td>512.0</td>\n",
       "      <td>8.0</td>\n",
       "      <td>Win10</td>\n",
       "      <td>Integrated</td>\n",
       "      <td>Intel</td>\n",
       "      <td>0.9</td>\n",
       "      <td>1771.99</td>\n",
       "    </tr>\n",
       "  </tbody>\n",
       "</table>\n",
       "<p>919 rows × 9 columns</p>\n",
       "</div>"
      ],
      "text/plain": [
       "       brand  screen_size  harddisk   ram     OS    graphics  \\\n",
       "0       ROKC         14.0    1000.0   8.0  Win11  Integrated   \n",
       "1       ROKC         15.6    1152.0  20.0  Win11  Integrated   \n",
       "2         HP         15.6    1000.0  16.0  Win11  Integrated   \n",
       "3    Gateway         11.6      64.0   4.0  Win10  Integrated   \n",
       "4       ROKC         14.0    1000.0   8.0  Win11  Integrated   \n",
       "..       ...          ...       ...   ...    ...         ...   \n",
       "914     ROKC         15.6    1152.0  20.0  Win11  Integrated   \n",
       "915       HP         14.0      64.0  16.0  Win11  Integrated   \n",
       "916       HP         15.6    1000.0  16.0  Win11  Integrated   \n",
       "917     ROKC         14.0    1000.0   8.0  Win11  Integrated   \n",
       "918     Dell         14.0     512.0   8.0  Win10  Integrated   \n",
       "\n",
       "    graphics_coprocessor  cpu_speed    price  \n",
       "0                  Intel        1.2   589.99  \n",
       "1                  Intel        1.1   389.99  \n",
       "2                  Intel        1.1   459.99  \n",
       "3                  Intel        1.1   155.00  \n",
       "4                  Intel        1.2   589.99  \n",
       "..                   ...        ...      ...  \n",
       "914                Intel        1.1   389.99  \n",
       "915                Intel        1.1   389.99  \n",
       "916                Intel        1.1   459.99  \n",
       "917                Intel        1.2   589.99  \n",
       "918                Intel        0.9  1771.99  \n",
       "\n",
       "[919 rows x 9 columns]"
      ]
     },
     "execution_count": 49,
     "metadata": {},
     "output_type": "execute_result"
    }
   ],
   "source": [
    "df_cleaned"
   ]
  },
  {
   "cell_type": "markdown",
   "id": "021130ce-8988-4ba5-bddc-4f6b7a4bbaf5",
   "metadata": {},
   "source": [
    "# EDA "
   ]
  },
  {
   "cell_type": "code",
   "execution_count": 50,
   "id": "10d5cf6b-f4ce-4edb-9e68-61310ec999cf",
   "metadata": {},
   "outputs": [
    {
     "name": "stdout",
     "output_type": "stream",
     "text": [
      "<class 'pandas.core.frame.DataFrame'>\n",
      "RangeIndex: 919 entries, 0 to 918\n",
      "Data columns (total 9 columns):\n",
      " #   Column                Non-Null Count  Dtype  \n",
      "---  ------                --------------  -----  \n",
      " 0   brand                 919 non-null    object \n",
      " 1   screen_size           919 non-null    float64\n",
      " 2   harddisk              919 non-null    float64\n",
      " 3   ram                   919 non-null    float64\n",
      " 4   OS                    919 non-null    object \n",
      " 5   graphics              919 non-null    object \n",
      " 6   graphics_coprocessor  919 non-null    object \n",
      " 7   cpu_speed             919 non-null    float64\n",
      " 8   price                 919 non-null    float64\n",
      "dtypes: float64(5), object(4)\n",
      "memory usage: 64.7+ KB\n"
     ]
    }
   ],
   "source": [
    "df_cleaned.info()"
   ]
  },
  {
   "cell_type": "code",
   "execution_count": 51,
   "id": "381aa192-535b-4d98-b750-6dfd23591775",
   "metadata": {},
   "outputs": [
    {
     "data": {
      "text/html": [
       "<div>\n",
       "<style scoped>\n",
       "    .dataframe tbody tr th:only-of-type {\n",
       "        vertical-align: middle;\n",
       "    }\n",
       "\n",
       "    .dataframe tbody tr th {\n",
       "        vertical-align: top;\n",
       "    }\n",
       "\n",
       "    .dataframe thead th {\n",
       "        text-align: right;\n",
       "    }\n",
       "</style>\n",
       "<table border=\"1\" class=\"dataframe\">\n",
       "  <thead>\n",
       "    <tr style=\"text-align: right;\">\n",
       "      <th></th>\n",
       "      <th>screen_size</th>\n",
       "      <th>harddisk</th>\n",
       "      <th>ram</th>\n",
       "      <th>cpu_speed</th>\n",
       "      <th>price</th>\n",
       "    </tr>\n",
       "  </thead>\n",
       "  <tbody>\n",
       "    <tr>\n",
       "      <th>count</th>\n",
       "      <td>919.000000</td>\n",
       "      <td>919.000000</td>\n",
       "      <td>919.000000</td>\n",
       "      <td>919.000000</td>\n",
       "      <td>919.000000</td>\n",
       "    </tr>\n",
       "    <tr>\n",
       "      <th>mean</th>\n",
       "      <td>14.752448</td>\n",
       "      <td>847.569097</td>\n",
       "      <td>14.583243</td>\n",
       "      <td>1.329554</td>\n",
       "      <td>585.107693</td>\n",
       "    </tr>\n",
       "    <tr>\n",
       "      <th>std</th>\n",
       "      <td>0.880614</td>\n",
       "      <td>416.793870</td>\n",
       "      <td>7.621734</td>\n",
       "      <td>0.634439</td>\n",
       "      <td>439.390782</td>\n",
       "    </tr>\n",
       "    <tr>\n",
       "      <th>min</th>\n",
       "      <td>11.600000</td>\n",
       "      <td>8.000000</td>\n",
       "      <td>2.000000</td>\n",
       "      <td>0.900000</td>\n",
       "      <td>99.990000</td>\n",
       "    </tr>\n",
       "    <tr>\n",
       "      <th>25%</th>\n",
       "      <td>14.000000</td>\n",
       "      <td>1000.000000</td>\n",
       "      <td>8.000000</td>\n",
       "      <td>1.100000</td>\n",
       "      <td>389.990000</td>\n",
       "    </tr>\n",
       "    <tr>\n",
       "      <th>50%</th>\n",
       "      <td>14.000000</td>\n",
       "      <td>1000.000000</td>\n",
       "      <td>16.000000</td>\n",
       "      <td>1.100000</td>\n",
       "      <td>459.990000</td>\n",
       "    </tr>\n",
       "    <tr>\n",
       "      <th>75%</th>\n",
       "      <td>15.600000</td>\n",
       "      <td>1000.000000</td>\n",
       "      <td>16.000000</td>\n",
       "      <td>1.200000</td>\n",
       "      <td>589.990000</td>\n",
       "    </tr>\n",
       "    <tr>\n",
       "      <th>max</th>\n",
       "      <td>17.300000</td>\n",
       "      <td>4000.000000</td>\n",
       "      <td>64.000000</td>\n",
       "      <td>5.600000</td>\n",
       "      <td>4762.760000</td>\n",
       "    </tr>\n",
       "  </tbody>\n",
       "</table>\n",
       "</div>"
      ],
      "text/plain": [
       "       screen_size     harddisk         ram   cpu_speed        price\n",
       "count   919.000000   919.000000  919.000000  919.000000   919.000000\n",
       "mean     14.752448   847.569097   14.583243    1.329554   585.107693\n",
       "std       0.880614   416.793870    7.621734    0.634439   439.390782\n",
       "min      11.600000     8.000000    2.000000    0.900000    99.990000\n",
       "25%      14.000000  1000.000000    8.000000    1.100000   389.990000\n",
       "50%      14.000000  1000.000000   16.000000    1.100000   459.990000\n",
       "75%      15.600000  1000.000000   16.000000    1.200000   589.990000\n",
       "max      17.300000  4000.000000   64.000000    5.600000  4762.760000"
      ]
     },
     "execution_count": 51,
     "metadata": {},
     "output_type": "execute_result"
    }
   ],
   "source": [
    "df_cleaned.describe()"
   ]
  },
  {
   "cell_type": "markdown",
   "id": "a19c9ade-6fd3-4c48-aa67-464ca21ef796",
   "metadata": {},
   "source": [
    "### Scatter Plot"
   ]
  },
  {
   "cell_type": "code",
   "execution_count": 52,
   "id": "de1935c4-3b2e-4245-b95c-0913b868ff20",
   "metadata": {},
   "outputs": [
    {
     "data": {
      "image/png": "[encoded data removed]",
      "text/plain": [
       "<Figure size 640x480 with 1 Axes>"
      ]
     },
     "metadata": {},
     "output_type": "display_data"
    }
   ],
   "source": [
    "x_column = 'screen_size'\n",
    "y_column = 'price'\n",
    "plt.scatter(df_cleaned[x_column], df_cleaned[y_column])\n",
    "plt.xlabel(x_column)\n",
    "plt.ylabel(y_column)\n",
    "plt.title(f'Scatter Plot of {x_column} vs {y_column}')\n",
    "plt.show()\n"
   ]
  },
  {
   "cell_type": "code",
   "execution_count": 53,
   "id": "32ef8b0e-3cd0-431c-b9f6-b826d61864d9",
   "metadata": {},
   "outputs": [
    {
     "data": {
      "image/png": "[encoded data removed]",
      "text/plain": [
       "<Figure size 640x480 with 1 Axes>"
      ]
     },
     "metadata": {},
     "output_type": "display_data"
    }
   ],
   "source": [
    "x_column = 'ram'\n",
    "y_column = 'price'\n",
    "plt.scatter(df_cleaned[x_column], df_cleaned[y_column])\n",
    "plt.xlabel(x_column)\n",
    "plt.ylabel(y_column)\n",
    "plt.title(f'Scatter Plot of {x_column} vs {y_column}')\n",
    "plt.show()"
   ]
  },
  {
   "cell_type": "code",
   "execution_count": 54,
   "id": "5b85ace1-d7ed-48d4-88cd-7ed74bc72aaa",
   "metadata": {},
   "outputs": [
    {
     "data": {
      "image/png": "[encoded data removed]",
      "text/plain": [
       "<Figure size 640x480 with 1 Axes>"
      ]
     },
     "metadata": {},
     "output_type": "display_data"
    }
   ],
   "source": [
    "x_column = 'cpu_speed'\n",
    "y_column = 'price'\n",
    "plt.scatter(df_cleaned[x_column], df_cleaned[y_column])\n",
    "plt.xlabel(x_column)\n",
    "plt.ylabel(y_column)\n",
    "plt.title(f'Scatter Plot of {x_column} vs {y_column}')\n",
    "plt.show()"
   ]
  },
  {
   "cell_type": "markdown",
   "id": "7881bee6-a7a3-4031-a2aa-f8021a32f119",
   "metadata": {},
   "source": [
    "### Box Plot"
   ]
  },
  {
   "cell_type": "code",
   "execution_count": 55,
   "id": "ddf298d0-7f95-4834-81ce-e64ff61b15d1",
   "metadata": {},
   "outputs": [
    {
     "data": {
      "image/png": "[encoded data removed]",
      "text/plain": [
       "<Figure size 640x480 with 1 Axes>"
      ]
     },
     "metadata": {},
     "output_type": "display_data"
    }
   ],
   "source": [
    "column_to_plot = ['screen_size']\n",
    "\n",
    "# Create box plots using Matplotlib\n",
    "plt.boxplot(df_cleaned[column_to_plot].values, labels=column_to_plot)\n",
    "plt.title('Box Plots')\n",
    "plt.show()\n"
   ]
  },
  {
   "cell_type": "code",
   "execution_count": 56,
   "id": "e5051b0d-5992-4d89-ae6b-a6fe3f46e997",
   "metadata": {},
   "outputs": [
    {
     "data": {
      "image/png": "[encoded data removed]",
      "text/plain": [
       "<Figure size 640x480 with 1 Axes>"
      ]
     },
     "metadata": {},
     "output_type": "display_data"
    }
   ],
   "source": [
    "column_to_plot = ['ram']\n",
    "\n",
    "# Create box plots using Matplotlib\n",
    "plt.boxplot(df_cleaned[column_to_plot].values, labels=column_to_plot)\n",
    "plt.title('Box Plots')\n",
    "plt.show()"
   ]
  },
  {
   "cell_type": "code",
   "execution_count": 57,
   "id": "09f84b69-1e05-4010-a612-820201f9f6bf",
   "metadata": {},
   "outputs": [
    {
     "data": {
      "image/png": "[encoded data removed]",
      "text/plain": [
       "<Figure size 640x480 with 1 Axes>"
      ]
     },
     "metadata": {},
     "output_type": "display_data"
    }
   ],
   "source": [
    "column_to_plot = ['cpu_speed']\n",
    "\n",
    "# Create box plots using Matplotlib\n",
    "plt.boxplot(df_cleaned[column_to_plot].values, labels=column_to_plot)\n",
    "plt.title('Box Plots')\n",
    "plt.show()"
   ]
  },
  {
   "cell_type": "code",
   "execution_count": 58,
   "id": "2a2c2e52-2a03-46b0-a291-06c6c92327e9",
   "metadata": {},
   "outputs": [
    {
     "data": {
      "image/png": "[encoded data removed]",
      "text/plain": [
       "<Figure size 640x480 with 1 Axes>"
      ]
     },
     "metadata": {},
     "output_type": "display_data"
    }
   ],
   "source": [
    "column_to_plot = ['price']\n",
    "\n",
    "# Create box plots using Matplotlib\n",
    "plt.boxplot(df_cleaned[column_to_plot].values, labels=column_to_plot)\n",
    "plt.title('Box Plots')\n",
    "plt.show()"
   ]
  },
  {
   "cell_type": "markdown",
   "id": "84acd4bb-614f-4903-97ba-8d4110254cd7",
   "metadata": {},
   "source": [
    "### Correlation Matrix"
   ]
  },
  {
   "cell_type": "code",
   "execution_count": 61,
   "id": "dd767409-2f90-4ebf-be3e-1b58954f2962",
   "metadata": {},
   "outputs": [
    {
     "data": {
      "text/plain": [
       "<Axes: >"
      ]
     },
     "execution_count": 61,
     "metadata": {},
     "output_type": "execute_result"
    },
    {
     "data": {
      "image/png": "[encoded data removed]",
      "text/plain": [
       "<Figure size 640x480 with 2 Axes>"
      ]
     },
     "metadata": {},
     "output_type": "display_data"
    }
   ],
   "source": [
    "columns_to_include = ['ram', 'screen_size', 'cpu_speed', 'price']\n",
    "\n",
    "# Select the desired columns\n",
    "selected_data = df_cleaned[columns_to_include]\n",
    "\n",
    "# Calculate the correlation matrix\n",
    "correlation_matrix = selected_data.corr()\n",
    "\n",
    "# Print the correlation matrix\n",
    "sns.heatmap(correlation_matrix, annot=True, cmap='coolwarm', fmt=\".2f\")"
   ]
  },
  {
   "cell_type": "code",
   "execution_count": null,
   "id": "b364d17f-3e47-42a8-99a5-4f867c79d986",
   "metadata": {},
   "outputs": [],
   "source": []
  }
 ],
 "metadata": {
  "kernelspec": {
   "display_name": "penn_venv",
   "language": "python",
   "name": "penn_venv"
  },
  "language_info": {
   "codemirror_mode": {
    "name": "ipython",
    "version": 3
   },
   "file_extension": ".py",
   "mimetype": "text/x-python",
   "name": "python",
   "nbconvert_exporter": "python",
   "pygments_lexer": "ipython3",
   "version": "3.11.4"
  }
 },
 "nbformat": 4,
 "nbformat_minor": 5
}
